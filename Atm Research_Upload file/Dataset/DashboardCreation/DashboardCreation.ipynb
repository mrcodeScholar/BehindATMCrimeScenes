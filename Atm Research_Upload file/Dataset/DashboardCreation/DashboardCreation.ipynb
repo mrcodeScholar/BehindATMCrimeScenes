{
 "cells": [
  {
   "cell_type": "code",
   "execution_count": 1,
   "metadata": {},
   "outputs": [],
   "source": [
    "# !pip install dash"
   ]
  },
  {
   "cell_type": "code",
   "execution_count": 2,
   "metadata": {},
   "outputs": [],
   "source": [
    "\n",
    "import dash\n",
    "from dash import dcc, html\n",
    "import plotly.express as px\n",
    "import pandas as pd"
   ]
  },
  {
   "cell_type": "code",
   "execution_count": 3,
   "metadata": {},
   "outputs": [
    {
     "name": "stdout",
     "output_type": "stream",
     "text": [
      "                                 address                       bank atm_id  \\\n",
      "0       Rua Tomas Da Fonseca TR a Lisbon             BANCO BPI S.A.  BPI17   \n",
      "1            Estrada De Telheiras Lisbon  BANCO COMERCIAL PORTUGUES   CP01   \n",
      "2         Rua Abranches Ferrao 8C Lisbon  BANCO COMERCIAL PORTUGUES   CP52   \n",
      "3  Avenida Dom Vasco Da Gama 50 a Lisbon      BANCO SANTANDER TOTTA   ST98   \n",
      "4       Rua Abranches Ferrao 17-B Lisbon              BARCLAYS BANK   BB07   \n",
      "\n",
      "   coord_x   coord_y freguesia  parish   mway_dist   police_dis  income  ...  \\\n",
      "0 -9.17093  38.75610    Lumiar      12  195.353440   898.569719      52  ...   \n",
      "1 -9.15911  38.76020    Lumiar      12  190.831787   568.679321      56  ...   \n",
      "2 -9.17203  38.75064   Carnide      10  766.671635  1432.302696      52  ...   \n",
      "3 -9.22544  38.69942     Belém       6  192.282794  1143.736479      36  ...   \n",
      "4 -9.17070  38.75117    Lumiar      12  719.798770  1371.942724      58  ...   \n",
      "\n",
      "   unp_rate  com_dens  freq_attack  success_attack  n_income  n_density  \\\n",
      "0         4         9            4               1         5          2   \n",
      "1         2         9            3               1         5          1   \n",
      "2         9        18            3               1         5          1   \n",
      "3        15         9            3               0         3          2   \n",
      "4         8        18            2               1         6          3   \n",
      "\n",
      "   n_age  n_unp_rate  n_com_dens  n_freq_attack  \n",
      "0      2           1           2              1  \n",
      "1      2           1           2              1  \n",
      "2      2           2           2              1  \n",
      "3      4           4           2              1  \n",
      "4      1           2           2              1  \n",
      "\n",
      "[5 rows x 22 columns]\n"
     ]
    },
    {
     "data": {
      "text/html": [
       "\n",
       "        <iframe\n",
       "            width=\"100%\"\n",
       "            height=\"650\"\n",
       "            src=\"http://127.0.0.1:8050/\"\n",
       "            frameborder=\"0\"\n",
       "            allowfullscreen\n",
       "            \n",
       "        ></iframe>\n",
       "        "
      ],
      "text/plain": [
       "<IPython.lib.display.IFrame at 0x7f8d06b79d80>"
      ]
     },
     "metadata": {},
     "output_type": "display_data"
    }
   ],
   "source": [
    "\n",
    "# Read the CSV file into a DataFrame\n",
    "df = pd.read_csv('../Dataset.csv')\n",
    "\n",
    "# Display the DataFrame\n",
    "print(df.head())\n",
    "\n",
    "## Initialize the Dash app\n",
    "app = dash.Dash(__name__)\n",
    "\n",
    "# Define the layout\n",
    "app.layout = html.Div([\n",
    "    html.H1(\"frequecy Detection Dashboard\"),\n",
    "    html.Div([\n",
    "        dcc.Dropdown(\n",
    "            id='x-axis',\n",
    "            options=[{'label': col, 'value': col} for col in df.columns],\n",
    "            value='coord_x'\n",
    "        ),\n",
    "        dcc.Dropdown(\n",
    "            id='y-axis',\n",
    "            options=[{'label': col, 'value': col} for col in df.columns],\n",
    "            value='coord_y'\n",
    "        ),\n",
    "        dcc.Graph(id='scatter-plot')\n",
    "    ])\n",
    "])\n",
    "\n",
    "# Define callback to update scatter plot based on dropdown selections\n",
    "@app.callback(\n",
    "    dash.dependencies.Output('scatter-plot', 'figure'),\n",
    "    [dash.dependencies.Input('x-axis', 'value'),\n",
    "     dash.dependencies.Input('y-axis', 'value')]\n",
    ")\n",
    "def update_scatter_plot(x_axis, y_axis):\n",
    "    fig = px.scatter(df, x=x_axis, y=y_axis, color='freq_attack', hover_name='atm_id')\n",
    "    fig.update_layout(title=f'{y_axis} vs {x_axis}', xaxis_title=x_axis, yaxis_title=y_axis)\n",
    "    return fig\n",
    "\n",
    "# Run the app\n",
    "if __name__ == '__main__':\n",
    "    app.run_server(debug=True)"
   ]
  }
 ],
 "metadata": {
  "kernelspec": {
   "display_name": "Python 3",
   "language": "python",
   "name": "python3"
  },
  "language_info": {
   "codemirror_mode": {
    "name": "ipython",
    "version": 3
   },
   "file_extension": ".py",
   "mimetype": "text/x-python",
   "name": "python",
   "nbconvert_exporter": "python",
   "pygments_lexer": "ipython3",
   "version": "3.10.12"
  }
 },
 "nbformat": 4,
 "nbformat_minor": 2
}
