{
 "cells": [
  {
   "cell_type": "code",
   "execution_count": 1,
   "metadata": {},
   "outputs": [],
   "source": [
    "import geopandas as gpd\n",
    "import pandas as pd\n",
    "import matplotlib.pyplot as plt\n",
    "import semopy as sem\n",
    "import networkx as nx\n",
    "from scipy import stats\n",
    "\n",
    "from imblearn.over_sampling import SMOTE\n",
    "from sklearn.tree import DecisionTreeClassifier\n",
    "import pandas as pd\n",
    "import matplotlib.pyplot as plt\n",
    "from sklearn.tree import export_text\n",
    "from sklearn.tree import DecisionTreeClassifier\n",
    "import numpy as np\n",
    "import graphviz\n",
    "from sklearn.tree import export_graphviz\n"
   ]
  },
  {
   "cell_type": "code",
   "execution_count": 2,
   "metadata": {},
   "outputs": [
    {
     "data": {
      "text/html": [
       "<div>\n",
       "<style scoped>\n",
       "    .dataframe tbody tr th:only-of-type {\n",
       "        vertical-align: middle;\n",
       "    }\n",
       "\n",
       "    .dataframe tbody tr th {\n",
       "        vertical-align: top;\n",
       "    }\n",
       "\n",
       "    .dataframe thead th {\n",
       "        text-align: right;\n",
       "    }\n",
       "</style>\n",
       "<table border=\"1\" class=\"dataframe\">\n",
       "  <thead>\n",
       "    <tr style=\"text-align: right;\">\n",
       "      <th></th>\n",
       "      <th>address</th>\n",
       "      <th>bank</th>\n",
       "      <th>atm_id</th>\n",
       "      <th>coord_x</th>\n",
       "      <th>coord_y</th>\n",
       "      <th>freguesia</th>\n",
       "      <th>parish</th>\n",
       "      <th>mway_dist</th>\n",
       "      <th>police_dis</th>\n",
       "      <th>income</th>\n",
       "      <th>...</th>\n",
       "      <th>indirect_loss</th>\n",
       "      <th>net_loss</th>\n",
       "      <th>freq_attack</th>\n",
       "      <th>success_attack</th>\n",
       "      <th>n_income</th>\n",
       "      <th>n_density</th>\n",
       "      <th>n_age</th>\n",
       "      <th>n_unp_rate</th>\n",
       "      <th>n_com_dens</th>\n",
       "      <th>n_freq_attack</th>\n",
       "    </tr>\n",
       "  </thead>\n",
       "  <tbody>\n",
       "    <tr>\n",
       "      <th>0</th>\n",
       "      <td>Rua Tomas Da Fonseca TR a Lisbon</td>\n",
       "      <td>BANCO BPI S.A.</td>\n",
       "      <td>BPI17</td>\n",
       "      <td>-9.17093</td>\n",
       "      <td>38.75610</td>\n",
       "      <td>Lumiar</td>\n",
       "      <td>12</td>\n",
       "      <td>195.353440</td>\n",
       "      <td>898.569719</td>\n",
       "      <td>52</td>\n",
       "      <td>...</td>\n",
       "      <td>0</td>\n",
       "      <td>25</td>\n",
       "      <td>4</td>\n",
       "      <td>1</td>\n",
       "      <td>5</td>\n",
       "      <td>2</td>\n",
       "      <td>2</td>\n",
       "      <td>1</td>\n",
       "      <td>2</td>\n",
       "      <td>1</td>\n",
       "    </tr>\n",
       "    <tr>\n",
       "      <th>1</th>\n",
       "      <td>Estrada De Telheiras Lisbon</td>\n",
       "      <td>BANCO COMERCIAL PORTUGUES</td>\n",
       "      <td>CP01</td>\n",
       "      <td>-9.15911</td>\n",
       "      <td>38.76020</td>\n",
       "      <td>Lumiar</td>\n",
       "      <td>12</td>\n",
       "      <td>190.831787</td>\n",
       "      <td>568.679321</td>\n",
       "      <td>56</td>\n",
       "      <td>...</td>\n",
       "      <td>0</td>\n",
       "      <td>70</td>\n",
       "      <td>3</td>\n",
       "      <td>1</td>\n",
       "      <td>5</td>\n",
       "      <td>1</td>\n",
       "      <td>2</td>\n",
       "      <td>1</td>\n",
       "      <td>2</td>\n",
       "      <td>1</td>\n",
       "    </tr>\n",
       "    <tr>\n",
       "      <th>2</th>\n",
       "      <td>Rua Abranches Ferrao 8C Lisbon</td>\n",
       "      <td>BANCO COMERCIAL PORTUGUES</td>\n",
       "      <td>CP52</td>\n",
       "      <td>-9.17203</td>\n",
       "      <td>38.75064</td>\n",
       "      <td>Carnide</td>\n",
       "      <td>10</td>\n",
       "      <td>766.671635</td>\n",
       "      <td>1432.302696</td>\n",
       "      <td>52</td>\n",
       "      <td>...</td>\n",
       "      <td>0</td>\n",
       "      <td>5000</td>\n",
       "      <td>3</td>\n",
       "      <td>1</td>\n",
       "      <td>5</td>\n",
       "      <td>1</td>\n",
       "      <td>2</td>\n",
       "      <td>2</td>\n",
       "      <td>2</td>\n",
       "      <td>1</td>\n",
       "    </tr>\n",
       "    <tr>\n",
       "      <th>3</th>\n",
       "      <td>Avenida Dom Vasco Da Gama 50 a Lisbon</td>\n",
       "      <td>BANCO SANTANDER TOTTA</td>\n",
       "      <td>ST98</td>\n",
       "      <td>-9.22544</td>\n",
       "      <td>38.69942</td>\n",
       "      <td>Belém</td>\n",
       "      <td>6</td>\n",
       "      <td>192.282794</td>\n",
       "      <td>1143.736479</td>\n",
       "      <td>36</td>\n",
       "      <td>...</td>\n",
       "      <td>65000</td>\n",
       "      <td>65000</td>\n",
       "      <td>3</td>\n",
       "      <td>0</td>\n",
       "      <td>3</td>\n",
       "      <td>2</td>\n",
       "      <td>4</td>\n",
       "      <td>4</td>\n",
       "      <td>2</td>\n",
       "      <td>1</td>\n",
       "    </tr>\n",
       "    <tr>\n",
       "      <th>4</th>\n",
       "      <td>Rua Abranches Ferrao 17-B Lisbon</td>\n",
       "      <td>BARCLAYS BANK</td>\n",
       "      <td>BB07</td>\n",
       "      <td>-9.17070</td>\n",
       "      <td>38.75117</td>\n",
       "      <td>Lumiar</td>\n",
       "      <td>12</td>\n",
       "      <td>719.798770</td>\n",
       "      <td>1371.942724</td>\n",
       "      <td>58</td>\n",
       "      <td>...</td>\n",
       "      <td>0</td>\n",
       "      <td>80</td>\n",
       "      <td>2</td>\n",
       "      <td>1</td>\n",
       "      <td>6</td>\n",
       "      <td>3</td>\n",
       "      <td>1</td>\n",
       "      <td>2</td>\n",
       "      <td>2</td>\n",
       "      <td>1</td>\n",
       "    </tr>\n",
       "  </tbody>\n",
       "</table>\n",
       "<p>5 rows × 27 columns</p>\n",
       "</div>"
      ],
      "text/plain": [
       "                                 address                       bank atm_id  \\\n",
       "0       Rua Tomas Da Fonseca TR a Lisbon             BANCO BPI S.A.  BPI17   \n",
       "1            Estrada De Telheiras Lisbon  BANCO COMERCIAL PORTUGUES   CP01   \n",
       "2         Rua Abranches Ferrao 8C Lisbon  BANCO COMERCIAL PORTUGUES   CP52   \n",
       "3  Avenida Dom Vasco Da Gama 50 a Lisbon      BANCO SANTANDER TOTTA   ST98   \n",
       "4       Rua Abranches Ferrao 17-B Lisbon              BARCLAYS BANK   BB07   \n",
       "\n",
       "   coord_x   coord_y freguesia  parish   mway_dist   police_dis  income  ...  \\\n",
       "0 -9.17093  38.75610    Lumiar      12  195.353440   898.569719      52  ...   \n",
       "1 -9.15911  38.76020    Lumiar      12  190.831787   568.679321      56  ...   \n",
       "2 -9.17203  38.75064   Carnide      10  766.671635  1432.302696      52  ...   \n",
       "3 -9.22544  38.69942     Belém       6  192.282794  1143.736479      36  ...   \n",
       "4 -9.17070  38.75117    Lumiar      12  719.798770  1371.942724      58  ...   \n",
       "\n",
       "   indirect_loss  net_loss  freq_attack  success_attack n_income n_density  \\\n",
       "0              0        25            4               1        5         2   \n",
       "1              0        70            3               1        5         1   \n",
       "2              0      5000            3               1        5         1   \n",
       "3          65000     65000            3               0        3         2   \n",
       "4              0        80            2               1        6         3   \n",
       "\n",
       "   n_age  n_unp_rate  n_com_dens  n_freq_attack  \n",
       "0      2           1           2              1  \n",
       "1      2           1           2              1  \n",
       "2      2           2           2              1  \n",
       "3      4           4           2              1  \n",
       "4      1           2           2              1  \n",
       "\n",
       "[5 rows x 27 columns]"
      ]
     },
     "execution_count": 2,
     "metadata": {},
     "output_type": "execute_result"
    }
   ],
   "source": [
    "df = pd.read_csv(\"Dataset.csv\")\n",
    "df.head()\n",
    "# pd.set_option('display.max_columns',None)\n"
   ]
  },
  {
   "cell_type": "code",
   "execution_count": 3,
   "metadata": {},
   "outputs": [
    {
     "data": {
      "text/html": [
       "<div>\n",
       "<style scoped>\n",
       "    .dataframe tbody tr th:only-of-type {\n",
       "        vertical-align: middle;\n",
       "    }\n",
       "\n",
       "    .dataframe tbody tr th {\n",
       "        vertical-align: top;\n",
       "    }\n",
       "\n",
       "    .dataframe thead th {\n",
       "        text-align: right;\n",
       "    }\n",
       "</style>\n",
       "<table border=\"1\" class=\"dataframe\">\n",
       "  <thead>\n",
       "    <tr style=\"text-align: right;\">\n",
       "      <th></th>\n",
       "      <th>freguesia</th>\n",
       "      <th>atm_id</th>\n",
       "      <th>freq_attack</th>\n",
       "      <th>success_attack</th>\n",
       "    </tr>\n",
       "  </thead>\n",
       "  <tbody>\n",
       "    <tr>\n",
       "      <th>0</th>\n",
       "      <td>Alcântara</td>\n",
       "      <td>22</td>\n",
       "      <td>0</td>\n",
       "      <td>0</td>\n",
       "    </tr>\n",
       "    <tr>\n",
       "      <th>1</th>\n",
       "      <td>Alvalade</td>\n",
       "      <td>41</td>\n",
       "      <td>1</td>\n",
       "      <td>1</td>\n",
       "    </tr>\n",
       "    <tr>\n",
       "      <th>2</th>\n",
       "      <td>Areeiro</td>\n",
       "      <td>8</td>\n",
       "      <td>0</td>\n",
       "      <td>0</td>\n",
       "    </tr>\n",
       "    <tr>\n",
       "      <th>3</th>\n",
       "      <td>Arroios</td>\n",
       "      <td>66</td>\n",
       "      <td>0</td>\n",
       "      <td>0</td>\n",
       "    </tr>\n",
       "    <tr>\n",
       "      <th>4</th>\n",
       "      <td>Avenidas Novas</td>\n",
       "      <td>124</td>\n",
       "      <td>19</td>\n",
       "      <td>15</td>\n",
       "    </tr>\n",
       "  </tbody>\n",
       "</table>\n",
       "</div>"
      ],
      "text/plain": [
       "        freguesia  atm_id  freq_attack  success_attack\n",
       "0       Alcântara      22            0               0\n",
       "1        Alvalade      41            1               1\n",
       "2         Areeiro       8            0               0\n",
       "3         Arroios      66            0               0\n",
       "4  Avenidas Novas     124           19              15"
      ]
     },
     "execution_count": 3,
     "metadata": {},
     "output_type": "execute_result"
    }
   ],
   "source": [
    "# Grouping by 'freguesia' and aggregating to get the total number of ATMs and the number of attacked ATMs\n",
    "grouped_df = df.groupby('freguesia').agg({'atm_id': 'count', 'freq_attack': 'sum','success_attack':'sum'}).reset_index()\n",
    "\n",
    "grouped_df.head()"
   ]
  },
  {
   "cell_type": "code",
   "execution_count": 4,
   "metadata": {},
   "outputs": [
    {
     "data": {
      "text/html": [
       "<div>\n",
       "<style scoped>\n",
       "    .dataframe tbody tr th:only-of-type {\n",
       "        vertical-align: middle;\n",
       "    }\n",
       "\n",
       "    .dataframe tbody tr th {\n",
       "        vertical-align: top;\n",
       "    }\n",
       "\n",
       "    .dataframe thead th {\n",
       "        text-align: right;\n",
       "    }\n",
       "</style>\n",
       "<table border=\"1\" class=\"dataframe\">\n",
       "  <thead>\n",
       "    <tr style=\"text-align: right;\">\n",
       "      <th></th>\n",
       "      <th>address</th>\n",
       "      <th>bank</th>\n",
       "      <th>atm_id</th>\n",
       "      <th>coord_x</th>\n",
       "      <th>coord_y</th>\n",
       "      <th>freguesia</th>\n",
       "      <th>parish</th>\n",
       "      <th>mway_dist</th>\n",
       "      <th>police_dis</th>\n",
       "      <th>income</th>\n",
       "      <th>...</th>\n",
       "      <th>freq_attack</th>\n",
       "      <th>success_attack</th>\n",
       "      <th>n_income</th>\n",
       "      <th>n_density</th>\n",
       "      <th>n_age</th>\n",
       "      <th>n_unp_rate</th>\n",
       "      <th>n_com_dens</th>\n",
       "      <th>n_freq_attack</th>\n",
       "      <th>geometry</th>\n",
       "      <th>index_right</th>\n",
       "    </tr>\n",
       "  </thead>\n",
       "  <tbody>\n",
       "    <tr>\n",
       "      <th>0</th>\n",
       "      <td>Rua Tomas Da Fonseca TR a Lisbon</td>\n",
       "      <td>BANCO BPI S.A.</td>\n",
       "      <td>BPI17</td>\n",
       "      <td>-9.17093</td>\n",
       "      <td>38.75610</td>\n",
       "      <td>Lumiar</td>\n",
       "      <td>12</td>\n",
       "      <td>195.353440</td>\n",
       "      <td>898.569719</td>\n",
       "      <td>52</td>\n",
       "      <td>...</td>\n",
       "      <td>4</td>\n",
       "      <td>1</td>\n",
       "      <td>5</td>\n",
       "      <td>2</td>\n",
       "      <td>2</td>\n",
       "      <td>1</td>\n",
       "      <td>2</td>\n",
       "      <td>1</td>\n",
       "      <td>POINT (-9.17093 38.75610)</td>\n",
       "      <td>11</td>\n",
       "    </tr>\n",
       "    <tr>\n",
       "      <th>1</th>\n",
       "      <td>Estrada De Telheiras Lisbon</td>\n",
       "      <td>BANCO COMERCIAL PORTUGUES</td>\n",
       "      <td>CP01</td>\n",
       "      <td>-9.15911</td>\n",
       "      <td>38.76020</td>\n",
       "      <td>Lumiar</td>\n",
       "      <td>12</td>\n",
       "      <td>190.831787</td>\n",
       "      <td>568.679321</td>\n",
       "      <td>56</td>\n",
       "      <td>...</td>\n",
       "      <td>3</td>\n",
       "      <td>1</td>\n",
       "      <td>5</td>\n",
       "      <td>1</td>\n",
       "      <td>2</td>\n",
       "      <td>1</td>\n",
       "      <td>2</td>\n",
       "      <td>1</td>\n",
       "      <td>POINT (-9.15911 38.76020)</td>\n",
       "      <td>5</td>\n",
       "    </tr>\n",
       "    <tr>\n",
       "      <th>2</th>\n",
       "      <td>Rua Abranches Ferrao 8C Lisbon</td>\n",
       "      <td>BANCO COMERCIAL PORTUGUES</td>\n",
       "      <td>CP52</td>\n",
       "      <td>-9.17203</td>\n",
       "      <td>38.75064</td>\n",
       "      <td>Carnide</td>\n",
       "      <td>10</td>\n",
       "      <td>766.671635</td>\n",
       "      <td>1432.302696</td>\n",
       "      <td>52</td>\n",
       "      <td>...</td>\n",
       "      <td>3</td>\n",
       "      <td>1</td>\n",
       "      <td>5</td>\n",
       "      <td>1</td>\n",
       "      <td>2</td>\n",
       "      <td>2</td>\n",
       "      <td>2</td>\n",
       "      <td>1</td>\n",
       "      <td>POINT (-9.17203 38.75064)</td>\n",
       "      <td>11</td>\n",
       "    </tr>\n",
       "    <tr>\n",
       "      <th>3</th>\n",
       "      <td>Avenida Dom Vasco Da Gama 50 a Lisbon</td>\n",
       "      <td>BANCO SANTANDER TOTTA</td>\n",
       "      <td>ST98</td>\n",
       "      <td>-9.22544</td>\n",
       "      <td>38.69942</td>\n",
       "      <td>Belém</td>\n",
       "      <td>6</td>\n",
       "      <td>192.282794</td>\n",
       "      <td>1143.736479</td>\n",
       "      <td>36</td>\n",
       "      <td>...</td>\n",
       "      <td>3</td>\n",
       "      <td>0</td>\n",
       "      <td>3</td>\n",
       "      <td>2</td>\n",
       "      <td>4</td>\n",
       "      <td>4</td>\n",
       "      <td>2</td>\n",
       "      <td>1</td>\n",
       "      <td>POINT (-9.22544 38.69942)</td>\n",
       "      <td>2</td>\n",
       "    </tr>\n",
       "    <tr>\n",
       "      <th>4</th>\n",
       "      <td>Rua Abranches Ferrao 17-B Lisbon</td>\n",
       "      <td>BARCLAYS BANK</td>\n",
       "      <td>BB07</td>\n",
       "      <td>-9.17070</td>\n",
       "      <td>38.75117</td>\n",
       "      <td>Lumiar</td>\n",
       "      <td>12</td>\n",
       "      <td>719.798770</td>\n",
       "      <td>1371.942724</td>\n",
       "      <td>58</td>\n",
       "      <td>...</td>\n",
       "      <td>2</td>\n",
       "      <td>1</td>\n",
       "      <td>6</td>\n",
       "      <td>3</td>\n",
       "      <td>1</td>\n",
       "      <td>2</td>\n",
       "      <td>2</td>\n",
       "      <td>1</td>\n",
       "      <td>POINT (-9.17070 38.75117)</td>\n",
       "      <td>11</td>\n",
       "    </tr>\n",
       "  </tbody>\n",
       "</table>\n",
       "<p>5 rows × 29 columns</p>\n",
       "</div>"
      ],
      "text/plain": [
       "                                 address                       bank atm_id  \\\n",
       "0       Rua Tomas Da Fonseca TR a Lisbon             BANCO BPI S.A.  BPI17   \n",
       "1            Estrada De Telheiras Lisbon  BANCO COMERCIAL PORTUGUES   CP01   \n",
       "2         Rua Abranches Ferrao 8C Lisbon  BANCO COMERCIAL PORTUGUES   CP52   \n",
       "3  Avenida Dom Vasco Da Gama 50 a Lisbon      BANCO SANTANDER TOTTA   ST98   \n",
       "4       Rua Abranches Ferrao 17-B Lisbon              BARCLAYS BANK   BB07   \n",
       "\n",
       "   coord_x   coord_y freguesia  parish   mway_dist   police_dis  income  ...  \\\n",
       "0 -9.17093  38.75610    Lumiar      12  195.353440   898.569719      52  ...   \n",
       "1 -9.15911  38.76020    Lumiar      12  190.831787   568.679321      56  ...   \n",
       "2 -9.17203  38.75064   Carnide      10  766.671635  1432.302696      52  ...   \n",
       "3 -9.22544  38.69942     Belém       6  192.282794  1143.736479      36  ...   \n",
       "4 -9.17070  38.75117    Lumiar      12  719.798770  1371.942724      58  ...   \n",
       "\n",
       "   freq_attack  success_attack  n_income  n_density n_age n_unp_rate  \\\n",
       "0            4               1         5          2     2          1   \n",
       "1            3               1         5          1     2          1   \n",
       "2            3               1         5          1     2          2   \n",
       "3            3               0         3          2     4          4   \n",
       "4            2               1         6          3     1          2   \n",
       "\n",
       "   n_com_dens  n_freq_attack                   geometry  index_right  \n",
       "0           2              1  POINT (-9.17093 38.75610)           11  \n",
       "1           2              1  POINT (-9.15911 38.76020)            5  \n",
       "2           2              1  POINT (-9.17203 38.75064)           11  \n",
       "3           2              1  POINT (-9.22544 38.69942)            2  \n",
       "4           2              1  POINT (-9.17070 38.75117)           11  \n",
       "\n",
       "[5 rows x 29 columns]"
      ]
     },
     "execution_count": 4,
     "metadata": {},
     "output_type": "execute_result"
    }
   ],
   "source": [
    "\n",
    "\n",
    "\n",
    "# Load the Freguesias shapefile\n",
    "freguesia_gdf = gpd.read_file('shapefiles/Freguesias2012.shp')\n",
    "\n",
    "# Create a GeoDataFrame from the DataFrame\n",
    "geometry = gpd.points_from_xy(df['coord_x'], df['coord_y'])\n",
    "points_gdf = gpd.GeoDataFrame(df, geometry=geometry)\n",
    "\n",
    "# Perform a spatial join between the points GeoDataFrame and the Freguesias GeoDataFrame\n",
    "joined_gdf = gpd.sjoin(points_gdf, freguesia_gdf, how='left')\n",
    "\n",
    "# Check the resulting DataFrame\n",
    "joined_gdf.head()\n"
   ]
  },
  {
   "cell_type": "code",
   "execution_count": 5,
   "metadata": {},
   "outputs": [
    {
     "data": {
      "application/vnd.plotly.v1+json": {
       "config": {
        "plotlyServerURL": "https://plot.ly"
       },
       "data": [
        {
         "line": {
          "color": "gray",
          "width": 2
         },
         "marker": {
          "color": "gray",
          "size": 8,
          "symbol": "circle"
         },
         "mode": "lines+markers",
         "name": "Total ATMs",
         "type": "scatter",
         "x": [
          "Alvalade",
          "Avenidas Novas",
          "Belém",
          "Benfica",
          "Campolide",
          "Carnide",
          "Lumiar",
          "Olivais"
         ],
         "y": [
          41,
          124,
          23,
          21,
          30,
          53,
          58,
          29
         ]
        },
        {
         "line": {
          "color": "red",
          "width": 2
         },
         "marker": {
          "color": "red",
          "size": 8,
          "symbol": "square"
         },
         "mode": "lines+markers",
         "name": "Attacked ATMs",
         "type": "scatter",
         "x": [
          "Alvalade",
          "Avenidas Novas",
          "Belém",
          "Benfica",
          "Campolide",
          "Carnide",
          "Lumiar",
          "Olivais"
         ],
         "y": [
          1,
          19,
          6,
          6,
          7,
          32,
          29,
          5
         ]
        },
        {
         "line": {
          "color": "green",
          "width": 2
         },
         "marker": {
          "color": "green",
          "size": 8,
          "symbol": "diamond"
         },
         "mode": "lines+markers",
         "name": "Successful Attacks",
         "type": "scatter",
         "x": [
          "Alvalade",
          "Avenidas Novas",
          "Belém",
          "Benfica",
          "Campolide",
          "Carnide",
          "Lumiar",
          "Olivais"
         ],
         "y": [
          1,
          15,
          2,
          6,
          5,
          23,
          15,
          3
         ]
        }
       ],
       "layout": {
        "template": {
         "data": {
          "bar": [
           {
            "error_x": {
             "color": "#2a3f5f"
            },
            "error_y": {
             "color": "#2a3f5f"
            },
            "marker": {
             "line": {
              "color": "#E5ECF6",
              "width": 0.5
             },
             "pattern": {
              "fillmode": "overlay",
              "size": 10,
              "solidity": 0.2
             }
            },
            "type": "bar"
           }
          ],
          "barpolar": [
           {
            "marker": {
             "line": {
              "color": "#E5ECF6",
              "width": 0.5
             },
             "pattern": {
              "fillmode": "overlay",
              "size": 10,
              "solidity": 0.2
             }
            },
            "type": "barpolar"
           }
          ],
          "carpet": [
           {
            "aaxis": {
             "endlinecolor": "#2a3f5f",
             "gridcolor": "white",
             "linecolor": "white",
             "minorgridcolor": "white",
             "startlinecolor": "#2a3f5f"
            },
            "baxis": {
             "endlinecolor": "#2a3f5f",
             "gridcolor": "white",
             "linecolor": "white",
             "minorgridcolor": "white",
             "startlinecolor": "#2a3f5f"
            },
            "type": "carpet"
           }
          ],
          "choropleth": [
           {
            "colorbar": {
             "outlinewidth": 0,
             "ticks": ""
            },
            "type": "choropleth"
           }
          ],
          "contour": [
           {
            "colorbar": {
             "outlinewidth": 0,
             "ticks": ""
            },
            "colorscale": [
             [
              0,
              "#0d0887"
             ],
             [
              0.1111111111111111,
              "#46039f"
             ],
             [
              0.2222222222222222,
              "#7201a8"
             ],
             [
              0.3333333333333333,
              "#9c179e"
             ],
             [
              0.4444444444444444,
              "#bd3786"
             ],
             [
              0.5555555555555556,
              "#d8576b"
             ],
             [
              0.6666666666666666,
              "#ed7953"
             ],
             [
              0.7777777777777778,
              "#fb9f3a"
             ],
             [
              0.8888888888888888,
              "#fdca26"
             ],
             [
              1,
              "#f0f921"
             ]
            ],
            "type": "contour"
           }
          ],
          "contourcarpet": [
           {
            "colorbar": {
             "outlinewidth": 0,
             "ticks": ""
            },
            "type": "contourcarpet"
           }
          ],
          "heatmap": [
           {
            "colorbar": {
             "outlinewidth": 0,
             "ticks": ""
            },
            "colorscale": [
             [
              0,
              "#0d0887"
             ],
             [
              0.1111111111111111,
              "#46039f"
             ],
             [
              0.2222222222222222,
              "#7201a8"
             ],
             [
              0.3333333333333333,
              "#9c179e"
             ],
             [
              0.4444444444444444,
              "#bd3786"
             ],
             [
              0.5555555555555556,
              "#d8576b"
             ],
             [
              0.6666666666666666,
              "#ed7953"
             ],
             [
              0.7777777777777778,
              "#fb9f3a"
             ],
             [
              0.8888888888888888,
              "#fdca26"
             ],
             [
              1,
              "#f0f921"
             ]
            ],
            "type": "heatmap"
           }
          ],
          "heatmapgl": [
           {
            "colorbar": {
             "outlinewidth": 0,
             "ticks": ""
            },
            "colorscale": [
             [
              0,
              "#0d0887"
             ],
             [
              0.1111111111111111,
              "#46039f"
             ],
             [
              0.2222222222222222,
              "#7201a8"
             ],
             [
              0.3333333333333333,
              "#9c179e"
             ],
             [
              0.4444444444444444,
              "#bd3786"
             ],
             [
              0.5555555555555556,
              "#d8576b"
             ],
             [
              0.6666666666666666,
              "#ed7953"
             ],
             [
              0.7777777777777778,
              "#fb9f3a"
             ],
             [
              0.8888888888888888,
              "#fdca26"
             ],
             [
              1,
              "#f0f921"
             ]
            ],
            "type": "heatmapgl"
           }
          ],
          "histogram": [
           {
            "marker": {
             "pattern": {
              "fillmode": "overlay",
              "size": 10,
              "solidity": 0.2
             }
            },
            "type": "histogram"
           }
          ],
          "histogram2d": [
           {
            "colorbar": {
             "outlinewidth": 0,
             "ticks": ""
            },
            "colorscale": [
             [
              0,
              "#0d0887"
             ],
             [
              0.1111111111111111,
              "#46039f"
             ],
             [
              0.2222222222222222,
              "#7201a8"
             ],
             [
              0.3333333333333333,
              "#9c179e"
             ],
             [
              0.4444444444444444,
              "#bd3786"
             ],
             [
              0.5555555555555556,
              "#d8576b"
             ],
             [
              0.6666666666666666,
              "#ed7953"
             ],
             [
              0.7777777777777778,
              "#fb9f3a"
             ],
             [
              0.8888888888888888,
              "#fdca26"
             ],
             [
              1,
              "#f0f921"
             ]
            ],
            "type": "histogram2d"
           }
          ],
          "histogram2dcontour": [
           {
            "colorbar": {
             "outlinewidth": 0,
             "ticks": ""
            },
            "colorscale": [
             [
              0,
              "#0d0887"
             ],
             [
              0.1111111111111111,
              "#46039f"
             ],
             [
              0.2222222222222222,
              "#7201a8"
             ],
             [
              0.3333333333333333,
              "#9c179e"
             ],
             [
              0.4444444444444444,
              "#bd3786"
             ],
             [
              0.5555555555555556,
              "#d8576b"
             ],
             [
              0.6666666666666666,
              "#ed7953"
             ],
             [
              0.7777777777777778,
              "#fb9f3a"
             ],
             [
              0.8888888888888888,
              "#fdca26"
             ],
             [
              1,
              "#f0f921"
             ]
            ],
            "type": "histogram2dcontour"
           }
          ],
          "mesh3d": [
           {
            "colorbar": {
             "outlinewidth": 0,
             "ticks": ""
            },
            "type": "mesh3d"
           }
          ],
          "parcoords": [
           {
            "line": {
             "colorbar": {
              "outlinewidth": 0,
              "ticks": ""
             }
            },
            "type": "parcoords"
           }
          ],
          "pie": [
           {
            "automargin": true,
            "type": "pie"
           }
          ],
          "scatter": [
           {
            "fillpattern": {
             "fillmode": "overlay",
             "size": 10,
             "solidity": 0.2
            },
            "type": "scatter"
           }
          ],
          "scatter3d": [
           {
            "line": {
             "colorbar": {
              "outlinewidth": 0,
              "ticks": ""
             }
            },
            "marker": {
             "colorbar": {
              "outlinewidth": 0,
              "ticks": ""
             }
            },
            "type": "scatter3d"
           }
          ],
          "scattercarpet": [
           {
            "marker": {
             "colorbar": {
              "outlinewidth": 0,
              "ticks": ""
             }
            },
            "type": "scattercarpet"
           }
          ],
          "scattergeo": [
           {
            "marker": {
             "colorbar": {
              "outlinewidth": 0,
              "ticks": ""
             }
            },
            "type": "scattergeo"
           }
          ],
          "scattergl": [
           {
            "marker": {
             "colorbar": {
              "outlinewidth": 0,
              "ticks": ""
             }
            },
            "type": "scattergl"
           }
          ],
          "scattermapbox": [
           {
            "marker": {
             "colorbar": {
              "outlinewidth": 0,
              "ticks": ""
             }
            },
            "type": "scattermapbox"
           }
          ],
          "scatterpolar": [
           {
            "marker": {
             "colorbar": {
              "outlinewidth": 0,
              "ticks": ""
             }
            },
            "type": "scatterpolar"
           }
          ],
          "scatterpolargl": [
           {
            "marker": {
             "colorbar": {
              "outlinewidth": 0,
              "ticks": ""
             }
            },
            "type": "scatterpolargl"
           }
          ],
          "scatterternary": [
           {
            "marker": {
             "colorbar": {
              "outlinewidth": 0,
              "ticks": ""
             }
            },
            "type": "scatterternary"
           }
          ],
          "surface": [
           {
            "colorbar": {
             "outlinewidth": 0,
             "ticks": ""
            },
            "colorscale": [
             [
              0,
              "#0d0887"
             ],
             [
              0.1111111111111111,
              "#46039f"
             ],
             [
              0.2222222222222222,
              "#7201a8"
             ],
             [
              0.3333333333333333,
              "#9c179e"
             ],
             [
              0.4444444444444444,
              "#bd3786"
             ],
             [
              0.5555555555555556,
              "#d8576b"
             ],
             [
              0.6666666666666666,
              "#ed7953"
             ],
             [
              0.7777777777777778,
              "#fb9f3a"
             ],
             [
              0.8888888888888888,
              "#fdca26"
             ],
             [
              1,
              "#f0f921"
             ]
            ],
            "type": "surface"
           }
          ],
          "table": [
           {
            "cells": {
             "fill": {
              "color": "#EBF0F8"
             },
             "line": {
              "color": "white"
             }
            },
            "header": {
             "fill": {
              "color": "#C8D4E3"
             },
             "line": {
              "color": "white"
             }
            },
            "type": "table"
           }
          ]
         },
         "layout": {
          "annotationdefaults": {
           "arrowcolor": "#2a3f5f",
           "arrowhead": 0,
           "arrowwidth": 1
          },
          "autotypenumbers": "strict",
          "coloraxis": {
           "colorbar": {
            "outlinewidth": 0,
            "ticks": ""
           }
          },
          "colorscale": {
           "diverging": [
            [
             0,
             "#8e0152"
            ],
            [
             0.1,
             "#c51b7d"
            ],
            [
             0.2,
             "#de77ae"
            ],
            [
             0.3,
             "#f1b6da"
            ],
            [
             0.4,
             "#fde0ef"
            ],
            [
             0.5,
             "#f7f7f7"
            ],
            [
             0.6,
             "#e6f5d0"
            ],
            [
             0.7,
             "#b8e186"
            ],
            [
             0.8,
             "#7fbc41"
            ],
            [
             0.9,
             "#4d9221"
            ],
            [
             1,
             "#276419"
            ]
           ],
           "sequential": [
            [
             0,
             "#0d0887"
            ],
            [
             0.1111111111111111,
             "#46039f"
            ],
            [
             0.2222222222222222,
             "#7201a8"
            ],
            [
             0.3333333333333333,
             "#9c179e"
            ],
            [
             0.4444444444444444,
             "#bd3786"
            ],
            [
             0.5555555555555556,
             "#d8576b"
            ],
            [
             0.6666666666666666,
             "#ed7953"
            ],
            [
             0.7777777777777778,
             "#fb9f3a"
            ],
            [
             0.8888888888888888,
             "#fdca26"
            ],
            [
             1,
             "#f0f921"
            ]
           ],
           "sequentialminus": [
            [
             0,
             "#0d0887"
            ],
            [
             0.1111111111111111,
             "#46039f"
            ],
            [
             0.2222222222222222,
             "#7201a8"
            ],
            [
             0.3333333333333333,
             "#9c179e"
            ],
            [
             0.4444444444444444,
             "#bd3786"
            ],
            [
             0.5555555555555556,
             "#d8576b"
            ],
            [
             0.6666666666666666,
             "#ed7953"
            ],
            [
             0.7777777777777778,
             "#fb9f3a"
            ],
            [
             0.8888888888888888,
             "#fdca26"
            ],
            [
             1,
             "#f0f921"
            ]
           ]
          },
          "colorway": [
           "#636efa",
           "#EF553B",
           "#00cc96",
           "#ab63fa",
           "#FFA15A",
           "#19d3f3",
           "#FF6692",
           "#B6E880",
           "#FF97FF",
           "#FECB52"
          ],
          "font": {
           "color": "#2a3f5f"
          },
          "geo": {
           "bgcolor": "white",
           "lakecolor": "white",
           "landcolor": "#E5ECF6",
           "showlakes": true,
           "showland": true,
           "subunitcolor": "white"
          },
          "hoverlabel": {
           "align": "left"
          },
          "hovermode": "closest",
          "mapbox": {
           "style": "light"
          },
          "paper_bgcolor": "white",
          "plot_bgcolor": "#E5ECF6",
          "polar": {
           "angularaxis": {
            "gridcolor": "white",
            "linecolor": "white",
            "ticks": ""
           },
           "bgcolor": "#E5ECF6",
           "radialaxis": {
            "gridcolor": "white",
            "linecolor": "white",
            "ticks": ""
           }
          },
          "scene": {
           "xaxis": {
            "backgroundcolor": "#E5ECF6",
            "gridcolor": "white",
            "gridwidth": 2,
            "linecolor": "white",
            "showbackground": true,
            "ticks": "",
            "zerolinecolor": "white"
           },
           "yaxis": {
            "backgroundcolor": "#E5ECF6",
            "gridcolor": "white",
            "gridwidth": 2,
            "linecolor": "white",
            "showbackground": true,
            "ticks": "",
            "zerolinecolor": "white"
           },
           "zaxis": {
            "backgroundcolor": "#E5ECF6",
            "gridcolor": "white",
            "gridwidth": 2,
            "linecolor": "white",
            "showbackground": true,
            "ticks": "",
            "zerolinecolor": "white"
           }
          },
          "shapedefaults": {
           "line": {
            "color": "#2a3f5f"
           }
          },
          "ternary": {
           "aaxis": {
            "gridcolor": "white",
            "linecolor": "white",
            "ticks": ""
           },
           "baxis": {
            "gridcolor": "white",
            "linecolor": "white",
            "ticks": ""
           },
           "bgcolor": "#E5ECF6",
           "caxis": {
            "gridcolor": "white",
            "linecolor": "white",
            "ticks": ""
           }
          },
          "title": {
           "x": 0.05
          },
          "xaxis": {
           "automargin": true,
           "gridcolor": "white",
           "linecolor": "white",
           "ticks": "",
           "title": {
            "standoff": 15
           },
           "zerolinecolor": "white",
           "zerolinewidth": 2
          },
          "yaxis": {
           "automargin": true,
           "gridcolor": "white",
           "linecolor": "white",
           "ticks": "",
           "title": {
            "standoff": 15
           },
           "zerolinecolor": "white",
           "zerolinewidth": 2
          }
         }
        },
        "title": {
         "text": "Number of ATMs vs Attacked ATMs vs Successful Attacks by Freguesia"
        },
        "xaxis": {
         "title": {
          "text": "Freguesia"
         }
        },
        "yaxis": {
         "title": {
          "text": "Number of ATMs / Attacks"
         }
        }
       }
      }
     },
     "metadata": {},
     "output_type": "display_data"
    }
   ],
   "source": [
    "import pandas as pd\n",
    "import plotly.graph_objects as go\n",
    "\n",
    "# Grouping by 'freguesia' and aggregating to get the total number of ATMs, the number of attacked ATMs, and the number of successful attacks\n",
    "grouped_df = df.groupby('freguesia').agg({'atm_id': 'count', 'freq_attack': 'sum', 'success_attack': 'sum'}).reset_index()\n",
    "\n",
    "# Filter to keep only freguesias where attacks have occurred\n",
    "attacked_df = grouped_df[grouped_df['freq_attack'] > 0]\n",
    "\n",
    "# Sort the DataFrame by 'freguesia'\n",
    "attacked_df = attacked_df.sort_values(by='freguesia')\n",
    "\n",
    "# Create the figure\n",
    "fig = go.Figure()\n",
    "\n",
    "# Add total ATMs line\n",
    "fig.add_trace(go.Scatter(\n",
    "    x=attacked_df['freguesia'],\n",
    "    y=attacked_df['atm_id'],\n",
    "    mode='lines+markers',\n",
    "    name='Total ATMs',\n",
    "    line=dict(color='gray', width=2),\n",
    "    marker=dict(color='gray', size=8, symbol='circle'),\n",
    "))\n",
    "\n",
    "# Add frequency of attacked ATMs line\n",
    "fig.add_trace(go.Scatter(\n",
    "    x=attacked_df['freguesia'],\n",
    "    y=attacked_df['freq_attack'],\n",
    "    mode='lines+markers',\n",
    "    name='Attacked ATMs',\n",
    "    line=dict(color='red', width=2),\n",
    "    marker=dict(color='red', size=8, symbol='square'),\n",
    "))\n",
    "\n",
    "# Add success of attacked ATMs line\n",
    "fig.add_trace(go.Scatter(\n",
    "    x=attacked_df['freguesia'],\n",
    "    y=attacked_df['success_attack'],\n",
    "    mode='lines+markers',\n",
    "    name='Successful Attacks',\n",
    "    line=dict(color='green', width=2),\n",
    "    marker=dict(color='green', size=8, symbol='diamond'),\n",
    "))\n",
    "\n",
    "# Update the layout\n",
    "fig.update_layout(\n",
    "    title='Number of ATMs vs Attacked ATMs vs Successful Attacks by Freguesia',\n",
    "    xaxis=dict(title='Freguesia'),\n",
    "    yaxis=dict(title='Number of ATMs / Attacks'),\n",
    "    overwrite=True\n",
    ")\n",
    "\n",
    "# Show the figure\n",
    "fig.show()\n"
   ]
  },
  {
   "cell_type": "code",
   "execution_count": 6,
   "metadata": {},
   "outputs": [
    {
     "data": {
      "image/png": "[encoded data removed]",
      "text/plain": [
       "<Figure size 1000x1000 with 1 Axes>"
      ]
     },
     "metadata": {},
     "output_type": "display_data"
    }
   ],
   "source": [
    "import geopandas as gpd\n",
    "import matplotlib.pyplot as plt\n",
    "from matplotlib.lines import Line2D  # To create custom legend markers\n",
    "\n",
    "# Load the shapefile of Lisbon\n",
    "lisbon_map = gpd.read_file(\"shapefiles/Freguesias2012.shp\")\n",
    "\n",
    "# Plotting\n",
    "fig, ax = plt.subplots( figsize=(10, 10))\n",
    "fig.patch.set_alpha(0.0)\n",
    "# Plotting the map\n",
    "lisbon_map.plot(ax=ax, color='lightgrey', edgecolor='black')\n",
    "\n",
    "# Define marker size based on frequency of attacks\n",
    "def marker_size(freq):\n",
    "    if freq == 0:\n",
    "        return 20\n",
    "    elif freq == 1:\n",
    "        return 30\n",
    "    elif freq == 2:\n",
    "        return 50\n",
    "    elif freq == 3:\n",
    "        return 150\n",
    "    elif freq == 4:\n",
    "        return 300\n",
    "\n",
    "# Define a function to map frequency of attacks to marker shapes and colors\n",
    "def shape_color_map(freq):\n",
    "    shape_map = {0: 'o', 1: '^', 2: 's', 3: 'd', 4: 'p'}  # Mapping of frequency to marker shapes\n",
    "    color_map = {0: 'mediumseagreen', 1: 'lightcoral', 2: 'indianred',  3: 'firebrick', 4: 'darkred'}  # Mapping of frequency to colors\n",
    "    return shape_map.get(freq, 'o'), color_map.get(freq, 'lightyellow')\n",
    "\n",
    "# Plotting the points with color and shape based on frequency of attacks\n",
    "for idx, row in joined_gdf.iterrows():\n",
    "    shape, color = shape_color_map(row['freq_attack'])\n",
    "    size = marker_size(row['freq_attack'])\n",
    "    ax.scatter(row.geometry.x, row.geometry.y, color=color, s=size, marker=shape)\n",
    "\n",
    "# Adding a legend\n",
    "legend_elements = [Line2D([0], [0], marker='o', color='w', label='0', markerfacecolor='mediumseagreen', markersize=10),\n",
    "                   Line2D([0], [0], marker='^', color='w', label='1', markerfacecolor='lightcoral', markersize=10),\n",
    "                   Line2D([0], [0], marker='s', color='w', label='2', markerfacecolor='indianred', markersize=10),\n",
    "                   Line2D([0], [0], marker='d', color='w', label='3', markerfacecolor='firebrick', markersize=10),\n",
    "                   Line2D([0], [0], marker='p', color='w', label='4', markerfacecolor='darkred', markersize=10)]\n",
    "ax.axis('off')\n",
    "ax.set_xticks([])\n",
    "ax.set_yticks([])\n",
    "ax.legend(handles=legend_elements, title='Frequency of Attacks', loc=(-0.05,0.780), ncol=3 ,\n",
    "          prop={'weight':'bold'}, shadow=True,title_fontproperties={'weight': 'bold'})\n",
    "\n",
    "# Adding a caption\n",
    "ax.text(0.5, 0.99, 'Spatial Visualization of Attack Frequencies in Lisbon', horizontalalignment='center', verticalalignment='center',transform=ax.transAxes,\n",
    "        fontsize=14, weight='bold', bbox=dict( facecolor='white',alpha=0.7, edgecolor='black'))\n",
    "\n",
    "plt.show()\n"
   ]
  },
  {
   "cell_type": "code",
   "execution_count": 7,
   "metadata": {},
   "outputs": [
    {
     "data": {
      "image/png": "[encoded data removed]",
      "text/plain": [
       "<Figure size 1000x600 with 1 Axes>"
      ]
     },
     "metadata": {},
     "output_type": "display_data"
    }
   ],
   "source": [
    "import matplotlib.pyplot as plt\n",
    "import numpy as np\n",
    "\n",
    "# Set the width of the bars\n",
    "bar_width = 1\n",
    "\n",
    "# Set the figure size\n",
    "plt.figure(figsize=(10, 6))\n",
    "\n",
    "# Plotting the stacked bars for total ATMs, attacked ATMs, and successful attacks\n",
    "total_bars = plt.bar(np.arange(len(grouped_df['freguesia'])), grouped_df['atm_id'], bar_width, color='#A9A9A9', label='Total ATMs',hatch='//')\n",
    "attacked_bars = plt.bar(np.arange(len(grouped_df['freguesia'])), grouped_df['freq_attack'], bar_width, color='#696969', label='Attacked ATMs',hatch='+')\n",
    "success_bars = plt.bar(np.arange(len(grouped_df['freguesia'])), grouped_df['success_attack'], bar_width, color='#2F4F4F', label='Successful Attacks',hatch='||')\n",
    "\n",
    "# Adding labels and title\n",
    "plt.xlabel('Freguesia',fontdict={\"weight\":'bold','size':\"large\"})\n",
    "plt.ylabel('Count',fontdict={\"weight\":'bold','size':\"large\"})\n",
    "plt.title('Analysis of Total ATMs, Attacked ATMs, and Successful Attacks by Freguesia',fontdict={'weight':'bold'})\n",
    "plt.xticks(np.arange(len(grouped_df['freguesia'])), grouped_df['freguesia'], rotation=90,fontsize=12, weight='bold')\n",
    "plt.legend(loc=(0.75, 0.8), prop={'weight': 'bold'})\n",
    "\n",
    "# Display the plot\n",
    "plt.tight_layout()\n",
    "plt.show()\n",
    "\n"
   ]
  },
  {
   "cell_type": "code",
   "execution_count": 8,
   "metadata": {},
   "outputs": [
    {
     "name": "stdout",
     "output_type": "stream",
     "text": [
      "                mway_dist  police_dis  parish  income  density    age  \\\n",
      "mway_dist           False        True    True   False     True   True   \n",
      "police_dis           True       False   False   False     True   True   \n",
      "parish               True       False   False   False     True   True   \n",
      "income              False       False   False   False     True   True   \n",
      "density              True        True    True    True    False   True   \n",
      "age                  True        True    True    True     True  False   \n",
      "unp_rate             True        True   False    True    False   True   \n",
      "com_dens             True        True    True   False    False   True   \n",
      "success_attack       True        True   False   False    False   True   \n",
      "\n",
      "                unp_rate  com_dens  success_attack  \n",
      "mway_dist           True      True            True  \n",
      "police_dis          True      True            True  \n",
      "parish             False      True           False  \n",
      "income              True     False           False  \n",
      "density            False     False           False  \n",
      "age                 True      True            True  \n",
      "unp_rate           False     False           False  \n",
      "com_dens           False     False            True  \n",
      "success_attack     False      True           False  \n"
     ]
    },
    {
     "data": {
      "image/png": "[encoded data removed]",
      "text/plain": [
       "<Figure size 1000x800 with 1 Axes>"
      ]
     },
     "metadata": {},
     "output_type": "display_data"
    }
   ],
   "source": [
    "\n",
    "\n",
    "# Assuming numeric_df is your DataFrame containing numeric data\n",
    "numeric_df= df[['mway_dist','police_dis','parish','income','density','age','unp_rate','com_dens','success_attack']]\n",
    "# Compute p-values for pairwise dependencies\n",
    "p_values = pd.DataFrame(index=numeric_df.columns, columns=numeric_df.columns)\n",
    "for col1 in numeric_df.columns:\n",
    "    for col2 in numeric_df.columns:\n",
    "        if col1 != col2:\n",
    "            corr, p_val = stats.pearsonr(numeric_df[col1], numeric_df[col2])\n",
    "            p_values.loc[col1, col2] = p_val\n",
    "# print(p_values)\n",
    "# Thresholding (adjust threshold as needed)\n",
    "alpha = 0.05  # Example significance level\n",
    "dependency_matrix = p_values < alpha\n",
    "print(dependency_matrix)\n",
    "# Create network only with significant dependencies\n",
    "G = nx.from_pandas_adjacency(dependency_matrix)\n",
    "\n",
    "# Visualize network\n",
    "plt.figure(figsize=(10, 8))\n",
    "pos = nx.circular_layout(G)  # or any other layout\n",
    "nx.draw(G, pos, with_labels=True, node_color='lightblue', node_size=3000, font_size=7)\n",
    "plt.title(\"Dependency Network (Significant)\")\n",
    "plt.savefig('dependency_net_geo_demo_success.png')\n",
    "plt.show()\n"
   ]
  },
  {
   "cell_type": "code",
   "execution_count": 9,
   "metadata": {},
   "outputs": [
    {
     "name": "stdout",
     "output_type": "stream",
     "text": [
      "                     Value\n",
      "DoF              39.000000\n",
      "DoF Baseline     52.000000\n",
      "chi2             41.931951\n",
      "chi2 p-value      0.344902\n",
      "chi2 Baseline  2084.897104\n",
      "CFI               0.998558\n",
      "GFI               0.979888\n",
      "AGFI              0.973184\n",
      "NFI               0.979888\n",
      "TLI               0.998077\n",
      "RMSEA             0.010204\n",
      "AIC              30.187155\n",
      "BIC             103.521703\n",
      "LogLik            0.906422\n",
      "Name of objective: DWLS\n",
      "Optimization method: SLSQP\n",
      "Optimization successful.\n",
      "Optimization terminated successfully\n",
      "Objective value: 0.058\n",
      "Number of iterations: 51\n",
      "Params: 0.015 -0.000 0.000 0.054 -0.008 -0.000 0.001 0.035 0.106 -0.010 0.009 -0.075 6.307 0.113 21.679 0.060\n",
      "              lval  op            rval   Estimate  Std. Err    z-value  \\\n",
      "0           parish   ~               L   1.000000         -          -   \n",
      "1                L   ~        com_dens   0.034589  0.011652    2.96849   \n",
      "2                L   ~             age   0.105949   0.02062   5.138077   \n",
      "3                L   ~          income  -0.009250  0.030674  -0.301552   \n",
      "4                L   ~        unp_rate   0.008330  0.073356   0.113554   \n",
      "5                L   ~         density  -0.075241  0.018661  -4.032051   \n",
      "6   success_attack   ~               L   0.020378   0.00727   2.802995   \n",
      "7   success_attack   ~       mway_dist  -0.000109  0.000012  -8.820392   \n",
      "8   success_attack   ~      police_dis   0.000361  0.000031  11.702159   \n",
      "9      freq_attack   ~               L   0.031825  0.011987   2.655004   \n",
      "10     freq_attack   ~          parish   0.015215  0.003669   4.147201   \n",
      "11     freq_attack   ~       mway_dist  -0.000193  0.000019 -10.072597   \n",
      "12     freq_attack   ~      police_dis   0.000589  0.000048  12.308222   \n",
      "13               L  ~~               L   0.463385  2.172519   0.213294   \n",
      "14          parish  ~~          parish  27.681567   2.61735   10.57618   \n",
      "15     freq_attack  ~~     freq_attack   0.142935  0.007858  18.190164   \n",
      "16  success_attack  ~~  success_attack   0.059462  0.003255  18.268693   \n",
      "\n",
      "     p-value  \n",
      "0          -  \n",
      "1   0.002993  \n",
      "2        0.0  \n",
      "3   0.762994  \n",
      "4   0.909591  \n",
      "5   0.000055  \n",
      "6   0.005063  \n",
      "7        0.0  \n",
      "8        0.0  \n",
      "9   0.007931  \n",
      "10  0.000034  \n",
      "11       0.0  \n",
      "12       0.0  \n",
      "13  0.831098  \n",
      "14       0.0  \n",
      "15       0.0  \n",
      "16       0.0  \n"
     ]
    },
    {
     "name": "stderr",
     "output_type": "stream",
     "text": [
      "/snap/core20/current/lib/x86_64-linux-gnu/libstdc++.so.6: version `GLIBCXX_3.4.29' not found (required by /lib/x86_64-linux-gnu/libproxy.so.1)\n",
      "Failed to load module: /home/pranam/snap/code/common/.cache/gio-modules/libgiolibproxy.so\n"
     ]
    },
    {
     "data": {
      "image/svg+xml": [
       "<?xml version=\"1.0\" encoding=\"UTF-8\" standalone=\"no\"?>\n",
       "<!DOCTYPE svg PUBLIC \"-//W3C//DTD SVG 1.1//EN\"\n",
       " \"http://www.w3.org/Graphics/SVG/1.1/DTD/svg11.dtd\">\n",
       "<!-- Generated by graphviz version 2.43.0 (0)\n",
       " -->\n",
       "<!-- Title: G Pages: 1 -->\n",
       "<svg width=\"646pt\" height=\"325pt\"\n",
       " viewBox=\"0.00 0.00 646.00 325.00\" xmlns=\"http://www.w3.org/2000/svg\" xmlns:xlink=\"http://www.w3.org/1999/xlink\">\n",
       "<g id=\"graph0\" class=\"graph\" transform=\"scale(1 1) rotate(0) translate(4 321)\">\n",
       "<title>G</title>\n",
       "<polygon fill=\"white\" stroke=\"transparent\" points=\"-4,4 -4,-321 642,-321 642,4 -4,4\"/>\n",
       "<!-- L -->\n",
       "<g id=\"node1\" class=\"node\">\n",
       "<title>L</title>\n",
       "<ellipse fill=\"#cae6df\" stroke=\"black\" cx=\"409\" cy=\"-201\" rx=\"18\" ry=\"18\"/>\n",
       "<text text-anchor=\"middle\" x=\"409\" y=\"-197.3\" font-family=\"Times,serif\" font-size=\"14.00\">L</text>\n",
       "</g>\n",
       "<!-- freq_attack -->\n",
       "<g id=\"node2\" class=\"node\">\n",
       "<title>freq_attack</title>\n",
       "<polygon fill=\"none\" stroke=\"black\" points=\"413.5,-36 316.5,-36 316.5,0 413.5,0 413.5,-36\"/>\n",
       "<text text-anchor=\"middle\" x=\"365\" y=\"-14.3\" font-family=\"Times,serif\" font-size=\"14.00\">freq_attack</text>\n",
       "</g>\n",
       "<!-- L&#45;&gt;freq_attack -->\n",
       "<g id=\"edge10\" class=\"edge\">\n",
       "<title>L&#45;&gt;freq_attack</title>\n",
       "<path fill=\"none\" stroke=\"black\" d=\"M423.74,-189.98C431.82,-183.73 441.32,-174.98 447,-165 471.73,-121.57 493.92,-94.76 465,-54 455.22,-40.21 439.57,-31.81 423.52,-26.71\"/>\n",
       "<polygon fill=\"black\" stroke=\"black\" points=\"424.1,-23.24 413.53,-23.94 422.23,-29.98 424.1,-23.24\"/>\n",
       "<text text-anchor=\"middle\" x=\"510\" y=\"-119.4\" font-family=\"Times,serif\" font-size=\"12.00\">0.125</text>\n",
       "<text text-anchor=\"middle\" x=\"510\" y=\"-106.4\" font-family=\"Times,serif\" font-size=\"12.00\">p&#45;val: 0.01</text>\n",
       "</g>\n",
       "<!-- success_attack -->\n",
       "<g id=\"node3\" class=\"node\">\n",
       "<title>success_attack</title>\n",
       "<polygon fill=\"none\" stroke=\"black\" points=\"122,-36 0,-36 0,0 122,0 122,-36\"/>\n",
       "<text text-anchor=\"middle\" x=\"61\" y=\"-14.3\" font-family=\"Times,serif\" font-size=\"14.00\">success_attack</text>\n",
       "</g>\n",
       "<!-- L&#45;&gt;success_attack -->\n",
       "<g id=\"edge7\" class=\"edge\">\n",
       "<title>L&#45;&gt;success_attack</title>\n",
       "<path fill=\"none\" stroke=\"black\" d=\"M390.73,-199.73C322.12,-198.29 81.4,-189.31 35,-134 14.03,-109 29.26,-70.54 43.74,-45.08\"/>\n",
       "<polygon fill=\"black\" stroke=\"black\" points=\"46.84,-46.71 48.97,-36.34 40.83,-43.12 46.84,-46.71\"/>\n",
       "<text text-anchor=\"middle\" x=\"67\" y=\"-119.4\" font-family=\"Times,serif\" font-size=\"12.00\">0.128</text>\n",
       "<text text-anchor=\"middle\" x=\"67\" y=\"-106.4\" font-family=\"Times,serif\" font-size=\"12.00\">p&#45;val: 0.01</text>\n",
       "</g>\n",
       "<!-- parish -->\n",
       "<g id=\"node9\" class=\"node\">\n",
       "<title>parish</title>\n",
       "<polygon fill=\"none\" stroke=\"black\" points=\"440,-134 378,-134 378,-98 440,-98 440,-134\"/>\n",
       "<text text-anchor=\"middle\" x=\"409\" y=\"-112.3\" font-family=\"Times,serif\" font-size=\"14.00\">parish</text>\n",
       "</g>\n",
       "<!-- L&#45;&gt;parish -->\n",
       "<g id=\"edge1\" class=\"edge\">\n",
       "<title>L&#45;&gt;parish</title>\n",
       "<path fill=\"none\" stroke=\"black\" d=\"M409,-182.8C409,-171.67 409,-156.94 409,-144.24\"/>\n",
       "<polygon fill=\"black\" stroke=\"black\" points=\"412.5,-144.18 409,-134.18 405.5,-144.18 412.5,-144.18\"/>\n",
       "<text text-anchor=\"middle\" x=\"426\" y=\"-155.4\" font-family=\"Times,serif\" font-size=\"12.00\">0.330</text>\n",
       "</g>\n",
       "<!-- age -->\n",
       "<g id=\"node4\" class=\"node\">\n",
       "<title>age</title>\n",
       "<polygon fill=\"none\" stroke=\"black\" points=\"252,-317 198,-317 198,-281 252,-281 252,-317\"/>\n",
       "<text text-anchor=\"middle\" x=\"225\" y=\"-295.3\" font-family=\"Times,serif\" font-size=\"14.00\">age</text>\n",
       "</g>\n",
       "<!-- age&#45;&gt;L -->\n",
       "<g id=\"edge3\" class=\"edge\">\n",
       "<title>age&#45;&gt;L</title>\n",
       "<path fill=\"none\" stroke=\"black\" d=\"M229.32,-280.93C233.72,-267.02 241.95,-247.96 256,-237 292.28,-208.68 347.29,-202.5 380.52,-201.56\"/>\n",
       "<polygon fill=\"black\" stroke=\"black\" points=\"380.95,-205.06 390.9,-201.42 380.85,-198.06 380.95,-205.06\"/>\n",
       "<text text-anchor=\"middle\" x=\"288\" y=\"-253.4\" font-family=\"Times,serif\" font-size=\"12.00\">0.575</text>\n",
       "<text text-anchor=\"middle\" x=\"288\" y=\"-240.4\" font-family=\"Times,serif\" font-size=\"12.00\">p&#45;val: 0.00</text>\n",
       "</g>\n",
       "<!-- com_dens -->\n",
       "<g id=\"node5\" class=\"node\">\n",
       "<title>com_dens</title>\n",
       "<polygon fill=\"none\" stroke=\"black\" points=\"356,-317 270,-317 270,-281 356,-281 356,-317\"/>\n",
       "<text text-anchor=\"middle\" x=\"313\" y=\"-295.3\" font-family=\"Times,serif\" font-size=\"14.00\">com_dens</text>\n",
       "</g>\n",
       "<!-- com_dens&#45;&gt;L -->\n",
       "<g id=\"edge2\" class=\"edge\">\n",
       "<title>com_dens&#45;&gt;L</title>\n",
       "<path fill=\"none\" stroke=\"black\" d=\"M317.47,-280.98C321.69,-267.66 329.16,-249.38 341,-237 352.37,-225.11 368.67,-216.53 382.46,-210.84\"/>\n",
       "<polygon fill=\"black\" stroke=\"black\" points=\"383.86,-214.05 391.95,-207.2 381.36,-207.51 383.86,-214.05\"/>\n",
       "<text text-anchor=\"middle\" x=\"373\" y=\"-253.4\" font-family=\"Times,serif\" font-size=\"12.00\">0.303</text>\n",
       "<text text-anchor=\"middle\" x=\"373\" y=\"-240.4\" font-family=\"Times,serif\" font-size=\"12.00\">p&#45;val: 0.00</text>\n",
       "</g>\n",
       "<!-- density -->\n",
       "<g id=\"node6\" class=\"node\">\n",
       "<title>density</title>\n",
       "<polygon fill=\"none\" stroke=\"black\" points=\"443.5,-317 374.5,-317 374.5,-281 443.5,-281 443.5,-317\"/>\n",
       "<text text-anchor=\"middle\" x=\"409\" y=\"-295.3\" font-family=\"Times,serif\" font-size=\"14.00\">density</text>\n",
       "</g>\n",
       "<!-- density&#45;&gt;L -->\n",
       "<g id=\"edge6\" class=\"edge\">\n",
       "<title>density&#45;&gt;L</title>\n",
       "<path fill=\"none\" stroke=\"black\" d=\"M409,-280.84C409,-266.5 409,-245.81 409,-229.22\"/>\n",
       "<polygon fill=\"black\" stroke=\"black\" points=\"412.5,-229.01 409,-219.01 405.5,-229.01 412.5,-229.01\"/>\n",
       "<text text-anchor=\"middle\" x=\"441\" y=\"-253.4\" font-family=\"Times,serif\" font-size=\"12.00\">&#45;0.401</text>\n",
       "<text text-anchor=\"middle\" x=\"441\" y=\"-240.4\" font-family=\"Times,serif\" font-size=\"12.00\">p&#45;val: 0.00</text>\n",
       "</g>\n",
       "<!-- income -->\n",
       "<g id=\"node7\" class=\"node\">\n",
       "<title>income</title>\n",
       "<polygon fill=\"none\" stroke=\"black\" points=\"530,-317 462,-317 462,-281 530,-281 530,-317\"/>\n",
       "<text text-anchor=\"middle\" x=\"496\" y=\"-295.3\" font-family=\"Times,serif\" font-size=\"14.00\">income</text>\n",
       "</g>\n",
       "<!-- income&#45;&gt;L -->\n",
       "<g id=\"edge4\" class=\"edge\">\n",
       "<title>income&#45;&gt;L</title>\n",
       "<path fill=\"none\" stroke=\"black\" d=\"M493.25,-280.79C490.38,-267.54 484.73,-249.45 474,-237 463.86,-225.24 448.77,-216.78 435.67,-211.12\"/>\n",
       "<polygon fill=\"black\" stroke=\"black\" points=\"436.75,-207.78 426.17,-207.33 434.16,-214.28 436.75,-207.78\"/>\n",
       "<text text-anchor=\"middle\" x=\"519\" y=\"-253.4\" font-family=\"Times,serif\" font-size=\"12.00\">&#45;0.061</text>\n",
       "<text text-anchor=\"middle\" x=\"519\" y=\"-240.4\" font-family=\"Times,serif\" font-size=\"12.00\">p&#45;val: 0.76</text>\n",
       "</g>\n",
       "<!-- mway_dist -->\n",
       "<g id=\"node8\" class=\"node\">\n",
       "<title>mway_dist</title>\n",
       "<polygon fill=\"none\" stroke=\"black\" points=\"332,-134 240,-134 240,-98 332,-98 332,-134\"/>\n",
       "<text text-anchor=\"middle\" x=\"286\" y=\"-112.3\" font-family=\"Times,serif\" font-size=\"14.00\">mway_dist</text>\n",
       "</g>\n",
       "<!-- mway_dist&#45;&gt;freq_attack -->\n",
       "<g id=\"edge12\" class=\"edge\">\n",
       "<title>mway_dist&#45;&gt;freq_attack</title>\n",
       "<path fill=\"none\" stroke=\"black\" d=\"M292.95,-97.75C298.69,-84.82 307.72,-67.17 319,-54 322.42,-50.01 326.37,-46.18 330.48,-42.62\"/>\n",
       "<polygon fill=\"black\" stroke=\"black\" points=\"332.93,-45.14 338.51,-36.13 328.53,-39.7 332.93,-45.14\"/>\n",
       "<text text-anchor=\"middle\" x=\"351\" y=\"-70.4\" font-family=\"Times,serif\" font-size=\"12.00\">&#45;0.391</text>\n",
       "<text text-anchor=\"middle\" x=\"351\" y=\"-57.4\" font-family=\"Times,serif\" font-size=\"12.00\">p&#45;val: 0.00</text>\n",
       "</g>\n",
       "<!-- mway_dist&#45;&gt;success_attack -->\n",
       "<g id=\"edge8\" class=\"edge\">\n",
       "<title>mway_dist&#45;&gt;success_attack</title>\n",
       "<path fill=\"none\" stroke=\"black\" d=\"M257.33,-97.92C249.41,-92.63 241.06,-86.47 234,-80 223.05,-69.96 225.59,-61.88 213,-54 188.98,-38.98 159.2,-30.39 132.38,-25.48\"/>\n",
       "<polygon fill=\"black\" stroke=\"black\" points=\"132.71,-21.99 122.27,-23.78 131.55,-28.89 132.71,-21.99\"/>\n",
       "<text text-anchor=\"middle\" x=\"266\" y=\"-70.4\" font-family=\"Times,serif\" font-size=\"12.00\">&#45;0.354</text>\n",
       "<text text-anchor=\"middle\" x=\"266\" y=\"-57.4\" font-family=\"Times,serif\" font-size=\"12.00\">p&#45;val: 0.00</text>\n",
       "</g>\n",
       "<!-- parish&#45;&gt;freq_attack -->\n",
       "<g id=\"edge11\" class=\"edge\">\n",
       "<title>parish&#45;&gt;freq_attack</title>\n",
       "<path fill=\"none\" stroke=\"black\" d=\"M403.88,-97.77C399.92,-85.32 393.96,-68.27 387,-54 385.52,-50.97 383.84,-47.87 382.09,-44.83\"/>\n",
       "<polygon fill=\"black\" stroke=\"black\" points=\"384.92,-42.74 376.73,-36.02 378.94,-46.38 384.92,-42.74\"/>\n",
       "<text text-anchor=\"middle\" x=\"429\" y=\"-70.4\" font-family=\"Times,serif\" font-size=\"12.00\">0.180</text>\n",
       "<text text-anchor=\"middle\" x=\"429\" y=\"-57.4\" font-family=\"Times,serif\" font-size=\"12.00\">p&#45;val: 0.00</text>\n",
       "</g>\n",
       "<!-- police_dis -->\n",
       "<g id=\"node10\" class=\"node\">\n",
       "<title>police_dis</title>\n",
       "<polygon fill=\"none\" stroke=\"black\" points=\"194,-134 108,-134 108,-98 194,-98 194,-134\"/>\n",
       "<text text-anchor=\"middle\" x=\"151\" y=\"-112.3\" font-family=\"Times,serif\" font-size=\"14.00\">police_dis</text>\n",
       "</g>\n",
       "<!-- police_dis&#45;&gt;freq_attack -->\n",
       "<g id=\"edge13\" class=\"edge\">\n",
       "<title>police_dis&#45;&gt;freq_attack</title>\n",
       "<path fill=\"none\" stroke=\"black\" d=\"M144.81,-97.97C141.09,-84.46 138.84,-65.94 149,-54 168.82,-30.71 249.12,-22.87 306.01,-20.26\"/>\n",
       "<polygon fill=\"black\" stroke=\"black\" points=\"306.49,-23.74 316.34,-19.83 306.2,-16.75 306.49,-23.74\"/>\n",
       "<text text-anchor=\"middle\" x=\"181\" y=\"-70.4\" font-family=\"Times,serif\" font-size=\"12.00\">0.402</text>\n",
       "<text text-anchor=\"middle\" x=\"181\" y=\"-57.4\" font-family=\"Times,serif\" font-size=\"12.00\">p&#45;val: 0.00</text>\n",
       "</g>\n",
       "<!-- police_dis&#45;&gt;success_attack -->\n",
       "<g id=\"edge9\" class=\"edge\">\n",
       "<title>police_dis&#45;&gt;success_attack</title>\n",
       "<path fill=\"none\" stroke=\"black\" d=\"M107.76,-100.41C86.59,-92.84 64.98,-84.3 62,-80 55.25,-70.27 54.21,-57.41 55.17,-46\"/>\n",
       "<polygon fill=\"black\" stroke=\"black\" points=\"58.64,-46.45 56.51,-36.07 51.71,-45.51 58.64,-46.45\"/>\n",
       "<text text-anchor=\"middle\" x=\"94\" y=\"-70.4\" font-family=\"Times,serif\" font-size=\"12.00\">0.395</text>\n",
       "<text text-anchor=\"middle\" x=\"94\" y=\"-57.4\" font-family=\"Times,serif\" font-size=\"12.00\">p&#45;val: 0.00</text>\n",
       "</g>\n",
       "<!-- unp_rate -->\n",
       "<g id=\"node11\" class=\"node\">\n",
       "<title>unp_rate</title>\n",
       "<polygon fill=\"none\" stroke=\"black\" points=\"628,-317 548,-317 548,-281 628,-281 628,-317\"/>\n",
       "<text text-anchor=\"middle\" x=\"588\" y=\"-295.3\" font-family=\"Times,serif\" font-size=\"14.00\">unp_rate</text>\n",
       "</g>\n",
       "<!-- unp_rate&#45;&gt;L -->\n",
       "<g id=\"edge5\" class=\"edge\">\n",
       "<title>unp_rate&#45;&gt;L</title>\n",
       "<path fill=\"none\" stroke=\"black\" d=\"M583.08,-280.95C578.19,-267.05 569.32,-248 555,-237 520.61,-210.58 469.25,-203.72 437.51,-202.15\"/>\n",
       "<polygon fill=\"black\" stroke=\"black\" points=\"437.27,-198.64 427.16,-201.79 437.03,-205.64 437.27,-198.64\"/>\n",
       "<text text-anchor=\"middle\" x=\"606\" y=\"-253.4\" font-family=\"Times,serif\" font-size=\"12.00\">0.023</text>\n",
       "<text text-anchor=\"middle\" x=\"606\" y=\"-240.4\" font-family=\"Times,serif\" font-size=\"12.00\">p&#45;val: 0.91</text>\n",
       "</g>\n",
       "</g>\n",
       "</svg>\n"
      ],
      "text/plain": [
       "<graphviz.graphs.Digraph at 0x7fe145cb57b0>"
      ]
     },
     "execution_count": 9,
     "metadata": {},
     "output_type": "execute_result"
    }
   ],
   "source": [
    "data= df[['mway_dist','police_dis','parish','income','density','age','unp_rate','com_dens','success_attack','freq_attack']]\n",
    "\n",
    "formula = \"\"\"\n",
    "\n",
    "\n",
    "L =~ parish\n",
    "success_attack ~ L + mway_dist + police_dis \n",
    "freq_attack ~ L + parish + mway_dist + police_dis\n",
    "L ~ com_dens + age + income + unp_rate + density\n",
    "\n",
    "\n",
    "\"\"\"\n",
    "\n",
    "model = sem.Model(formula)\n",
    "\n",
    "fit = model.fit(data, obj=\"DWLS\", solver=\"SLSQP\")  #  DWLS \n",
    "sem.bias_correction(model, n=500, resample_mean=False)\n",
    "print(sem.calc_stats(model).T)\n",
    "print(fit)\n",
    "print(model.inspect())\n",
    "sem.semplot(model, \"semresultbias.png\", plot_covs=True, std_ests=True, show=True)\n"
   ]
  },
  {
   "cell_type": "markdown",
   "metadata": {},
   "source": [
    "# Decision Tree"
   ]
  },
  {
   "cell_type": "code",
   "execution_count": 10,
   "metadata": {},
   "outputs": [
    {
     "name": "stdout",
     "output_type": "stream",
     "text": [
      "|--- mway_dist <= 925.69\n",
      "|   |--- police_dis <= 580.14\n",
      "|   |   |--- police_dis <= 510.19\n",
      "|   |   |   |--- class: 0\n",
      "|   |   |--- police_dis >  510.19\n",
      "|   |   |   |--- mway_dist <= 508.18\n",
      "|   |   |   |   |--- class: 1\n",
      "|   |   |   |--- mway_dist >  508.18\n",
      "|   |   |   |   |--- class: 0\n",
      "|   |--- police_dis >  580.14\n",
      "|   |   |--- mway_dist <= 727.78\n",
      "|   |   |   |--- mway_dist <= 675.50\n",
      "|   |   |   |   |--- class: 1\n",
      "|   |   |   |--- mway_dist >  675.50\n",
      "|   |   |   |   |--- class: 1\n",
      "|   |   |--- mway_dist >  727.78\n",
      "|   |   |   |--- police_dis <= 967.76\n",
      "|   |   |   |   |--- class: 0\n",
      "|   |   |   |--- police_dis >  967.76\n",
      "|   |   |   |   |--- class: 1\n",
      "|--- mway_dist >  925.69\n",
      "|   |--- class: 0\n",
      "\n"
     ]
    },
    {
     "name": "stderr",
     "output_type": "stream",
     "text": [
      "eog: symbol lookup error: /snap/core20/current/lib/x86_64-linux-gnu/libpthread.so.0: undefined symbol: __libc_pthread_init, version GLIBC_PRIVATE\n"
     ]
    },
    {
     "data": {
      "text/plain": [
       "'decision_tree.png'"
      ]
     },
     "execution_count": 10,
     "metadata": {},
     "output_type": "execute_result"
    }
   ],
   "source": [
    "\n",
    "\n",
    "\n",
    "# # Min-max normalization function\n",
    "# def min_max_normalize(column):\n",
    "#     return (column - column.min()) / (column.max() - column.min())\n",
    "\n",
    "# # Apply normalization to the selected columns\n",
    "# data_normalized = data.copy()\n",
    "# data_normalized['mway_dist'] = min_max_normalize(data['mway_dist'])\n",
    "# data_normalized['police_dis'] = min_max_normalize(data['police_dis'])\n",
    "\n",
    "# # Success attack is already in the range [0, 1], so no need to normalize it\n",
    "# # But if you want to ensure it's correctly normalized, you can uncomment the line below\n",
    "# # data_normalized['success_attack'] = min_max_normalize(data['success_attack'])\n",
    "\n",
    "# # print(data_normalized)\n",
    "\n",
    "\n",
    "X = data[['mway_dist', 'police_dis']]  # Features\n",
    "y = data['success_attack']  # Target variable\n",
    "\n",
    "smote = SMOTE(random_state=42)\n",
    "X_resampled, y_resampled = smote.fit_resample(X, y)\n",
    "\n",
    "# Initialize and train the decision tree classifier on the balanced data\n",
    "clf = DecisionTreeClassifier(criterion='entropy',max_depth=4,min_samples_leaf=15)  # You can change the criterion to 'gini' if preferred\n",
    "clf.fit(X_resampled, y_resampled)\n",
    "\n",
    "# Generate the rule-based decision tree\n",
    "tree_rules = export_text(clf, feature_names=['mway_dist', 'police_dis'])\n",
    "\n",
    "# Print the rules\n",
    "print(tree_rules)\n",
    "\n",
    "# Generate the DOT data for visualization\n",
    "dot_data = export_graphviz(clf, out_file=None, \n",
    "                           feature_names=['mway_dist', 'police_dis'],  \n",
    "                           class_names=['0', '1'],  \n",
    "                           filled=True, rounded=True,  \n",
    "                           special_characters=True)  \n",
    "\n",
    "# Visualize the decision tree\n",
    "graph = graphviz.Source(dot_data)  \n",
    "graph.format = 'png'  # Specify the image format (e.g., png, jpg, svg, pdf)\n",
    "graph.render(\"decision_tree\")\n",
    "\n",
    "\n",
    "\n",
    "\n"
   ]
  },
  {
   "cell_type": "code",
   "execution_count": 11,
   "metadata": {},
   "outputs": [
    {
     "data": {
      "text/html": [
       "<div>\n",
       "<style scoped>\n",
       "    .dataframe tbody tr th:only-of-type {\n",
       "        vertical-align: middle;\n",
       "    }\n",
       "\n",
       "    .dataframe tbody tr th {\n",
       "        vertical-align: top;\n",
       "    }\n",
       "\n",
       "    .dataframe thead th {\n",
       "        text-align: right;\n",
       "    }\n",
       "</style>\n",
       "<table border=\"1\" class=\"dataframe\">\n",
       "  <thead>\n",
       "    <tr style=\"text-align: right;\">\n",
       "      <th></th>\n",
       "      <th>Mway Range</th>\n",
       "      <th>Police Range</th>\n",
       "      <th>Attack Possible</th>\n",
       "    </tr>\n",
       "  </thead>\n",
       "  <tbody>\n",
       "    <tr>\n",
       "      <th>0</th>\n",
       "      <td>[0, 925]</td>\n",
       "      <td>[0, 510]</td>\n",
       "      <td>False</td>\n",
       "    </tr>\n",
       "    <tr>\n",
       "      <th>1</th>\n",
       "      <td>[0, 508]</td>\n",
       "      <td>[511, 580]</td>\n",
       "      <td>True</td>\n",
       "    </tr>\n",
       "    <tr>\n",
       "      <th>2</th>\n",
       "      <td>[509, 925]</td>\n",
       "      <td>[511, 580]</td>\n",
       "      <td>True</td>\n",
       "    </tr>\n",
       "    <tr>\n",
       "      <th>3</th>\n",
       "      <td>[0, 675]</td>\n",
       "      <td>[581, 967]</td>\n",
       "      <td>True</td>\n",
       "    </tr>\n",
       "    <tr>\n",
       "      <th>4</th>\n",
       "      <td>[676, 727]</td>\n",
       "      <td>[581, 967]</td>\n",
       "      <td>True</td>\n",
       "    </tr>\n",
       "    <tr>\n",
       "      <th>5</th>\n",
       "      <td>[728, 925]</td>\n",
       "      <td>[581, 967]</td>\n",
       "      <td>False</td>\n",
       "    </tr>\n",
       "    <tr>\n",
       "      <th>6</th>\n",
       "      <td>[728, 925]</td>\n",
       "      <td>[968, 967]</td>\n",
       "      <td>True</td>\n",
       "    </tr>\n",
       "    <tr>\n",
       "      <th>7</th>\n",
       "      <td>[926, 967]</td>\n",
       "      <td>[0, 967]</td>\n",
       "      <td>False</td>\n",
       "    </tr>\n",
       "  </tbody>\n",
       "</table>\n",
       "</div>"
      ],
      "text/plain": [
       "   Mway Range Police Range  Attack Possible\n",
       "0    [0, 925]     [0, 510]            False\n",
       "1    [0, 508]   [511, 580]             True\n",
       "2  [509, 925]   [511, 580]             True\n",
       "3    [0, 675]   [581, 967]             True\n",
       "4  [676, 727]   [581, 967]             True\n",
       "5  [728, 925]   [581, 967]            False\n",
       "6  [728, 925]   [968, 967]             True\n",
       "7  [926, 967]     [0, 967]            False"
      ]
     },
     "execution_count": 11,
     "metadata": {},
     "output_type": "execute_result"
    }
   ],
   "source": [
    "def extract_ranges(tree, feature_names):\n",
    "    tree_ = tree.tree_\n",
    "    feature_name = [\n",
    "        feature_names[i] if i != -2 else \"undefined!\"\n",
    "        for i in tree_.feature\n",
    "    ]\n",
    "\n",
    "    results = []\n",
    "\n",
    "    def recurse(node, mway_range, police_range):\n",
    "        if tree_.feature[node] != -2:\n",
    "            name = feature_name[node]\n",
    "            threshold = tree_.threshold[node]\n",
    "            \n",
    "            if name == 'mway_dist':\n",
    "                left_mway_range = mway_range.copy()\n",
    "                right_mway_range = mway_range.copy()\n",
    "                left_mway_range[1] = min(left_mway_range[1], threshold)\n",
    "                right_mway_range[0] = max(right_mway_range[0], threshold)\n",
    "                recurse(tree_.children_left[node], left_mway_range, police_range)\n",
    "                recurse(tree_.children_right[node], right_mway_range, police_range)\n",
    "            elif name == 'police_dis':\n",
    "                left_police_range = police_range.copy()\n",
    "                right_police_range = police_range.copy()\n",
    "                left_police_range[1] = min(left_police_range[1], threshold)\n",
    "                right_police_range[0] = max(right_police_range[0], threshold)\n",
    "                recurse(tree_.children_left[node], mway_range, left_police_range)\n",
    "                recurse(tree_.children_right[node], mway_range, right_police_range)\n",
    "        else:\n",
    "            samples_at_node = tree_.n_node_samples[node]\n",
    "            value_at_node = tree_.value[node][0]\n",
    "            attacked_samples = value_at_node[1]\n",
    "            not_attacked_samples = value_at_node[0]\n",
    "            total_samples = attacked_samples + not_attacked_samples\n",
    "            attack_possible = attacked_samples > 0\n",
    "            mway_range = [max(0, int(np.ceil(mway_range[0]))) if mway_range[0] != -np.inf else 0,\n",
    "                          max(0, int(np.floor(mway_range[1]))) if mway_range[1] != np.inf else int(np.floor(tree_.threshold.max()))]\n",
    "            police_range = [max(0, int(np.ceil(police_range[0]))) if police_range[0] != -np.inf else 0,\n",
    "                            max(0, int(np.floor(police_range[1]))) if police_range[1] != np.inf else int(np.floor(tree_.threshold.max()))]\n",
    "            results.append((mway_range, police_range, attack_possible))\n",
    "\n",
    "    recurse(0, [-np.inf, np.inf], [-np.inf, np.inf])\n",
    "\n",
    "    return results\n",
    "\n",
    "def create_ranges_dataframe(tree, feature_names):\n",
    "    ranges = extract_ranges(tree, feature_names)\n",
    "    df = pd.DataFrame(ranges, columns=['Mway Range', 'Police Range', 'Attack Possible'])\n",
    "    return df\n",
    "\n",
    "# Create DataFrame for the ranges and attack possibilities\n",
    "ranges_df = create_ranges_dataframe(clf, ['mway_dist', 'police_dis'])\n",
    "\n",
    "# Print the ranges DataFrame\n",
    "ranges_df"
   ]
  },
  {
   "cell_type": "code",
   "execution_count": 12,
   "metadata": {},
   "outputs": [
    {
     "name": "stdout",
     "output_type": "stream",
     "text": [
      "Node 0:\n",
      "  Entropy: 1.0\n",
      "  Number of Samples: 1306\n",
      "  Value (Class Distribution): [0.5 0.5]\n",
      "  Predicted Class: 0\n",
      "\n",
      "Node 1:\n",
      "  Entropy: 0.6064038272622556\n",
      "  Number of Samples: 767\n",
      "  Value (Class Distribution): [0.14863103 0.85136897]\n",
      "  Predicted Class: 1\n",
      "\n",
      "Node 2:\n",
      "  Entropy: 0.7642045065086203\n",
      "  Number of Samples: 81\n",
      "  Value (Class Distribution): [0.77777778 0.22222222]\n",
      "  Predicted Class: 0\n",
      "\n",
      "Node 3:\n",
      "  Entropy: 0.0\n",
      "  Number of Samples: 45\n",
      "  Value (Class Distribution): [1. 0.]\n",
      "  Predicted Class: 0\n",
      "\n",
      "Node 4:\n",
      "  Entropy: 1.0\n",
      "  Number of Samples: 36\n",
      "  Value (Class Distribution): [0.5 0.5]\n",
      "  Predicted Class: 0\n",
      "\n",
      "Node 5:\n",
      "  Entropy: 0.7918583525674836\n",
      "  Number of Samples: 21\n",
      "  Value (Class Distribution): [0.23809524 0.76190476]\n",
      "  Predicted Class: 1\n",
      "\n",
      "Node 6:\n",
      "  Entropy: 0.5665095065529053\n",
      "  Number of Samples: 15\n",
      "  Value (Class Distribution): [0.86666667 0.13333333]\n",
      "  Predicted Class: 0\n",
      "\n",
      "Node 7:\n",
      "  Entropy: 0.3819294763851349\n",
      "  Number of Samples: 686\n",
      "  Value (Class Distribution): [0.07434402 0.92565598]\n",
      "  Predicted Class: 1\n",
      "\n",
      "Node 8:\n",
      "  Entropy: 0.23549247988933422\n",
      "  Number of Samples: 597\n",
      "  Value (Class Distribution): [0.03852596 0.96147404]\n",
      "  Predicted Class: 1\n",
      "\n",
      "Node 9:\n",
      "  Entropy: 0.14116041551319375\n",
      "  Number of Samples: 401\n",
      "  Value (Class Distribution): [0.01995012 0.98004988]\n",
      "  Predicted Class: 1\n",
      "\n",
      "Node 10:\n",
      "  Entropy: 0.3898350252571065\n",
      "  Number of Samples: 196\n",
      "  Value (Class Distribution): [0.07653061 0.92346939]\n",
      "  Predicted Class: 1\n",
      "\n",
      "Node 11:\n",
      "  Entropy: 0.8984197746860723\n",
      "  Number of Samples: 89\n",
      "  Value (Class Distribution): [0.31460674 0.68539326]\n",
      "  Predicted Class: 1\n",
      "\n",
      "Node 12:\n",
      "  Entropy: 0.0\n",
      "  Number of Samples: 22\n",
      "  Value (Class Distribution): [1. 0.]\n",
      "  Predicted Class: 0\n",
      "\n",
      "Node 13:\n",
      "  Entropy: 0.4349734800747426\n",
      "  Number of Samples: 67\n",
      "  Value (Class Distribution): [0.08955224 0.91044776]\n",
      "  Predicted Class: 1\n",
      "\n",
      "Node 14:\n",
      "  Entropy: 0.0\n",
      "  Number of Samples: 539\n",
      "  Value (Class Distribution): [1. 0.]\n",
      "  Predicted Class: 0\n",
      "\n",
      "if mway_dist <= 925.69:\n",
      "  if police_dis <= 580.14:\n",
      "    if police_dis <= 510.19:\n",
      "      samples = 45\n",
      "      attacked = 0.0\n",
      "      not attacked = 1.0\n",
      "      attack percentage = 0.00%\n",
      "      not attack percentage = 100.00%\n",
      "    else:  # if police_dis > 510.19\n",
      "      if mway_dist <= 508.18:\n",
      "        samples = 21\n",
      "        attacked = 0.7619047619047619\n",
      "        not attacked = 0.23809523809523808\n",
      "        attack percentage = 76.19%\n",
      "        not attack percentage = 23.81%\n",
      "      else:  # if mway_dist > 508.18\n",
      "        samples = 15\n",
      "        attacked = 0.13333333333333333\n",
      "        not attacked = 0.8666666666666667\n",
      "        attack percentage = 13.33%\n",
      "        not attack percentage = 86.67%\n",
      "  else:  # if police_dis > 580.14\n",
      "    if mway_dist <= 727.78:\n",
      "      if mway_dist <= 675.50:\n",
      "        samples = 401\n",
      "        attacked = 0.9800498753117207\n",
      "        not attacked = 0.0199501246882793\n",
      "        attack percentage = 98.00%\n",
      "        not attack percentage = 2.00%\n",
      "      else:  # if mway_dist > 675.50\n",
      "        samples = 196\n",
      "        attacked = 0.923469387755102\n",
      "        not attacked = 0.07653061224489796\n",
      "        attack percentage = 92.35%\n",
      "        not attack percentage = 7.65%\n",
      "    else:  # if mway_dist > 727.78\n",
      "      if police_dis <= 967.76:\n",
      "        samples = 22\n",
      "        attacked = 0.0\n",
      "        not attacked = 1.0\n",
      "        attack percentage = 0.00%\n",
      "        not attack percentage = 100.00%\n",
      "      else:  # if police_dis > 967.76\n",
      "        samples = 67\n",
      "        attacked = 0.9104477611940298\n",
      "        not attacked = 0.08955223880597014\n",
      "        attack percentage = 91.04%\n",
      "        not attack percentage = 8.96%\n",
      "else:  # if mway_dist > 925.69\n",
      "  samples = 539\n",
      "  attacked = 0.0\n",
      "  not attacked = 1.0\n",
      "  attack percentage = 0.00%\n",
      "  not attack percentage = 100.00%\n"
     ]
    }
   ],
   "source": [
    "for i in range(clf.tree_.node_count):\n",
    "    print(f\"Node {i}:\")\n",
    "    print(\"  Entropy:\", clf.tree_.impurity[i])  # Calculate and print entropy for the node\n",
    "    # Calculate and print Gini impurity for the node\n",
    "    class_distribution = clf.tree_.value[i][0]  # Get class distribution\n",
    "    total_samples = clf.tree_.n_node_samples[i]  # Get total number of samples\n",
    "    print(\"  Number of Samples:\", total_samples)\n",
    "    print(\"  Value (Class Distribution):\", class_distribution)\n",
    "    predicted_class_index = class_distribution.argmax()\n",
    "    predicted_class = clf.classes_[predicted_class_index]\n",
    "    print(\"  Predicted Class:\", predicted_class)\n",
    "    print()\n",
    "# Function to calculate attack and not attacked percentages for each node\n",
    "def calculate_node_percentages(tree, feature_names):\n",
    "    tree_ = tree.tree_\n",
    "    feature_name = [\n",
    "        feature_names[i] if i != -2 else \"undefined!\"\n",
    "        for i in tree_.feature\n",
    "    ]\n",
    "    \n",
    "    def recurse(node, depth):\n",
    "        indent = \"  \" * depth\n",
    "        if tree_.feature[node] != -2:\n",
    "            name = feature_name[node]\n",
    "            threshold = tree_.threshold[node]\n",
    "            print(f\"{indent}if {name} <= {threshold:.2f}:\")\n",
    "            recurse(tree_.children_left[node], depth + 1)\n",
    "            print(f\"{indent}else:  # if {name} > {threshold:.2f}\")\n",
    "            recurse(tree_.children_right[node], depth + 1)\n",
    "        else:\n",
    "            samples_at_node = tree_.n_node_samples[node]\n",
    "            value_at_node = tree_.value[node][0]\n",
    "            attacked_samples = value_at_node[1]\n",
    "            not_attacked_samples = value_at_node[0]\n",
    "            total_samples = attacked_samples + not_attacked_samples\n",
    "            attack_percentage = (attacked_samples / total_samples) * 100 if total_samples > 0 else 0\n",
    "            not_attack_percentage = (not_attacked_samples / total_samples) * 100 if total_samples > 0 else 0\n",
    "            print(f\"{indent}samples = {samples_at_node}\")\n",
    "            print(f\"{indent}attacked = {attacked_samples}\")\n",
    "            print(f\"{indent}not attacked = {not_attacked_samples}\")\n",
    "            print(f\"{indent}attack percentage = {attack_percentage:.2f}%\")\n",
    "            print(f\"{indent}not attack percentage = {not_attack_percentage:.2f}%\")\n",
    "    \n",
    "    recurse(0, 0)\n",
    "    # Calculate and print attack percentages for each node\n",
    "calculate_node_percentages(clf, ['mway_dist', 'police_dis'])\n"
   ]
  },
  {
   "cell_type": "code",
   "execution_count": 13,
   "metadata": {},
   "outputs": [
    {
     "data": {
      "text/html": [
       "<div>\n",
       "<style scoped>\n",
       "    .dataframe tbody tr th:only-of-type {\n",
       "        vertical-align: middle;\n",
       "    }\n",
       "\n",
       "    .dataframe tbody tr th {\n",
       "        vertical-align: top;\n",
       "    }\n",
       "\n",
       "    .dataframe thead th {\n",
       "        text-align: right;\n",
       "    }\n",
       "</style>\n",
       "<table border=\"1\" class=\"dataframe\">\n",
       "  <thead>\n",
       "    <tr style=\"text-align: right;\">\n",
       "      <th></th>\n",
       "      <th>mway_dist</th>\n",
       "      <th>police_dis</th>\n",
       "      <th>Attack Percentage</th>\n",
       "      <th>Not Attack Percentage</th>\n",
       "    </tr>\n",
       "  </thead>\n",
       "  <tbody>\n",
       "    <tr>\n",
       "      <th>0</th>\n",
       "      <td>≤ 925.69</td>\n",
       "      <td>≤ 510.19</td>\n",
       "      <td>0.000000</td>\n",
       "      <td>100.000000</td>\n",
       "    </tr>\n",
       "    <tr>\n",
       "      <th>1</th>\n",
       "      <td>≤ 508.18</td>\n",
       "      <td>&gt; 510.19</td>\n",
       "      <td>76.190476</td>\n",
       "      <td>23.809524</td>\n",
       "    </tr>\n",
       "    <tr>\n",
       "      <th>2</th>\n",
       "      <td>&gt; 508.18</td>\n",
       "      <td>&gt; 510.19</td>\n",
       "      <td>13.333333</td>\n",
       "      <td>86.666667</td>\n",
       "    </tr>\n",
       "    <tr>\n",
       "      <th>3</th>\n",
       "      <td>≤ 675.50</td>\n",
       "      <td>&gt; 580.14</td>\n",
       "      <td>98.004988</td>\n",
       "      <td>1.995012</td>\n",
       "    </tr>\n",
       "    <tr>\n",
       "      <th>4</th>\n",
       "      <td>&gt; 675.50</td>\n",
       "      <td>&gt; 580.14</td>\n",
       "      <td>92.346939</td>\n",
       "      <td>7.653061</td>\n",
       "    </tr>\n",
       "    <tr>\n",
       "      <th>5</th>\n",
       "      <td>&gt; 727.78</td>\n",
       "      <td>≤ 967.76</td>\n",
       "      <td>0.000000</td>\n",
       "      <td>100.000000</td>\n",
       "    </tr>\n",
       "    <tr>\n",
       "      <th>6</th>\n",
       "      <td>&gt; 727.78</td>\n",
       "      <td>&gt; 967.76</td>\n",
       "      <td>91.044776</td>\n",
       "      <td>8.955224</td>\n",
       "    </tr>\n",
       "    <tr>\n",
       "      <th>7</th>\n",
       "      <td>&gt; 925.69</td>\n",
       "      <td>undefined!</td>\n",
       "      <td>0.000000</td>\n",
       "      <td>100.000000</td>\n",
       "    </tr>\n",
       "  </tbody>\n",
       "</table>\n",
       "</div>"
      ],
      "text/plain": [
       "  mway_dist  police_dis  Attack Percentage  Not Attack Percentage\n",
       "0  ≤ 925.69    ≤ 510.19           0.000000             100.000000\n",
       "1  ≤ 508.18    > 510.19          76.190476              23.809524\n",
       "2  > 508.18    > 510.19          13.333333              86.666667\n",
       "3  ≤ 675.50    > 580.14          98.004988               1.995012\n",
       "4  > 675.50    > 580.14          92.346939               7.653061\n",
       "5  > 727.78    ≤ 967.76           0.000000             100.000000\n",
       "6  > 727.78    > 967.76          91.044776               8.955224\n",
       "7  > 925.69  undefined!           0.000000             100.000000"
      ]
     },
     "execution_count": 13,
     "metadata": {},
     "output_type": "execute_result"
    }
   ],
   "source": [
    "\n",
    "\n",
    "\n",
    "def calculate_node_percentages(tree, feature_names):\n",
    "    tree_ = tree.tree_\n",
    "    feature_name = [\n",
    "        feature_names[i] if i != -2 else \"undefined!\"\n",
    "        for i in tree_.feature\n",
    "    ]\n",
    "    \n",
    "    data = []\n",
    "    \n",
    "    def recurse(node, depth, rule, last_values):\n",
    "        if tree_.feature[node] != -2:\n",
    "            name = feature_name[node]\n",
    "            threshold = tree_.threshold[node]\n",
    "            left_rule = rule + f\"if {name} <= {threshold:.2f}:\"\n",
    "            right_rule = rule + f\"else:  # if {name} > {threshold:.2f}\"\n",
    "            left_last_values = last_values.copy()\n",
    "            right_last_values = last_values.copy()\n",
    "            left_last_values[name] = f\"≤ {threshold:.2f}\"\n",
    "            right_last_values[name] = f\"> {threshold:.2f}\"\n",
    "            recurse(tree_.children_left[node], depth + 1, left_rule, left_last_values)\n",
    "            recurse(tree_.children_right[node], depth + 1, right_rule, right_last_values)\n",
    "        else:\n",
    "            samples_at_node = tree_.n_node_samples[node]\n",
    "            value_at_node = tree_.value[node][0]\n",
    "            attacked_samples = value_at_node[1]\n",
    "            not_attacked_samples = value_at_node[0]\n",
    "            total_samples = attacked_samples + not_attacked_samples\n",
    "            attack_percentage = (attacked_samples / total_samples) * 100 if total_samples > 0 else 0\n",
    "            not_attack_percentage = (not_attacked_samples / total_samples) * 100 if total_samples > 0 else 0\n",
    "            factor_values = [last_values.get(feature, \"undefined!\") for feature in feature_names]\n",
    "            data.append([samples_at_node, attacked_samples, not_attacked_samples, attack_percentage, not_attack_percentage, rule] + factor_values)\n",
    "    \n",
    "    recurse(0, 0, \"\", {})\n",
    "    \n",
    "    df_columns = ['Samples', 'Attacked', 'Not Attacked', 'Attack Percentage', 'Not Attack Percentage', 'Rule'] + feature_names\n",
    "    df = pd.DataFrame(data, columns=df_columns)\n",
    "    \n",
    "    return df\n",
    "\n",
    "# Get the DataFrame with rules, attack, and not attacked percentages for each node\n",
    "rules_df = calculate_node_percentages(clf, ['mway_dist', 'police_dis'])\n",
    "\n",
    "# Print the DataFrame\n",
    "rules_df\n",
    "\n",
    "\n",
    "M = rules_df[['mway_dist','police_dis','Attack Percentage', 'Not Attack Percentage' ]]\n",
    "M\n"
   ]
  },
  {
   "cell_type": "code",
   "execution_count": 14,
   "metadata": {},
   "outputs": [
    {
     "name": "stdout",
     "output_type": "stream",
     "text": [
      "   Mway Range Police Range  Attack Possible\n",
      "0    [0, 925]     [0, 510]            False\n",
      "1    [0, 508]   [511, 580]             True\n",
      "2  [509, 925]   [511, 580]            False\n",
      "3    [0, 675]   [581, 967]             True\n",
      "4  [676, 727]   [581, 967]             True\n",
      "5  [728, 925]   [581, 967]            False\n",
      "6  [728, 925]   [968, 967]             True\n",
      "7  [926, 967]     [0, 967]            False\n"
     ]
    }
   ],
   "source": [
    "# this needs improvement\n",
    "\n",
    "def extract_ranges(tree, feature_names):\n",
    "    tree_ = tree.tree_\n",
    "    feature_name = [\n",
    "        feature_names[i] if i != -2 else \"undefined!\"\n",
    "        for i in tree_.feature\n",
    "    ]\n",
    "\n",
    "    results = []\n",
    "\n",
    "    def recurse(node, mway_range, police_range):\n",
    "        if tree_.feature[node] != -2:\n",
    "            name = feature_name[node]\n",
    "            threshold = tree_.threshold[node]\n",
    "            \n",
    "            if name == 'mway_dist':\n",
    "                left_mway_range = mway_range.copy()\n",
    "                right_mway_range = mway_range.copy()\n",
    "                left_mway_range[1] = min(left_mway_range[1], threshold)\n",
    "                right_mway_range[0] = threshold\n",
    "                recurse(tree_.children_left[node], left_mway_range, police_range)\n",
    "                recurse(tree_.children_right[node], right_mway_range, police_range)\n",
    "            elif name == 'police_dis':\n",
    "                left_police_range = police_range.copy()\n",
    "                right_police_range = police_range.copy()\n",
    "                left_police_range[1] = min(left_police_range[1], threshold)\n",
    "                right_police_range[0] = threshold\n",
    "                recurse(tree_.children_left[node], mway_range, left_police_range)\n",
    "                recurse(tree_.children_right[node], mway_range, right_police_range)\n",
    "        else:\n",
    "            samples_at_node = tree_.n_node_samples[node]\n",
    "            value_at_node = tree_.value[node][0]\n",
    "            attacked_samples = value_at_node[1]\n",
    "            not_attacked_samples = value_at_node[0]\n",
    "            total_samples = attacked_samples + not_attacked_samples\n",
    "            attack_possible = attacked_samples / total_samples > 0.5\n",
    "\n",
    "            # Ensure that -inf and inf are handled properly\n",
    "            mway_range = [max(0, int(np.ceil(mway_range[0]))) if mway_range[0] != -np.inf else 0,\n",
    "                          max(0, int(np.floor(mway_range[1]))) if mway_range[1] != np.inf else int(np.floor(tree_.threshold.max()))]\n",
    "            police_range = [max(0, int(np.ceil(police_range[0]))) if police_range[0] != -np.inf else 0,\n",
    "                            max(0, int(np.floor(police_range[1]))) if police_range[1] != np.inf else int(np.floor(tree_.threshold.max()))]\n",
    "\n",
    "            results.append((mway_range, police_range, attack_possible))\n",
    "\n",
    "    recurse(0, [-np.inf, np.inf], [-np.inf, np.inf])\n",
    "\n",
    "    return results\n",
    "\n",
    "def create_ranges_dataframe(tree, feature_names):\n",
    "    ranges = extract_ranges(tree, feature_names)\n",
    "    df = pd.DataFrame(ranges, columns=['Mway Range', 'Police Range', 'Attack Possible'])\n",
    "    return df\n",
    "\n",
    "# Create DataFrame for the ranges and attack possibilities\n",
    "ranges_df = create_ranges_dataframe(clf, ['mway_dist', 'police_dis'])\n",
    "\n",
    "# Print the ranges DataFrame\n",
    "print(ranges_df)\n"
   ]
  }
 ],
 "metadata": {
  "kernelspec": {
   "display_name": "Python 3",
   "language": "python",
   "name": "python3"
  },
  "language_info": {
   "codemirror_mode": {
    "name": "ipython",
    "version": 3
   },
   "file_extension": ".py",
   "mimetype": "text/x-python",
   "name": "python",
   "nbconvert_exporter": "python",
   "pygments_lexer": "ipython3",
   "version": "3.10.12"
  }
 },
 "nbformat": 4,
 "nbformat_minor": 2
}
